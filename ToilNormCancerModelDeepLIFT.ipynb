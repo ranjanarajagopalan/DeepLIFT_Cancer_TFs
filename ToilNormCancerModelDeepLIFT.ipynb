{
  "nbformat": 4,
  "nbformat_minor": 0,
  "metadata": {
    "colab": {
      "name": "ToilNormCancerModelDeepLIFT.ipynb",
      "provenance": [],
      "collapsed_sections": [],
      "authorship_tag": "ABX9TyNbm74GNbZ02nbgSny2tA55",
      "include_colab_link": true
    },
    "kernelspec": {
      "display_name": "Python 3",
      "name": "python3"
    },
    "language_info": {
      "name": "python"
    }
  },
  "cells": [
    {
      "cell_type": "markdown",
      "metadata": {
        "id": "view-in-github",
        "colab_type": "text"
      },
      "source": [
        "<a href=\"https://colab.research.google.com/github/raranj/DeepLIFT_Cancer_TFs/blob/main/ToilNormCancerModelDeepLIFT.ipynb\" target=\"_parent\"><img src=\"https://colab.research.google.com/assets/colab-badge.svg\" alt=\"Open In Colab\"/></a>"
      ]
    },
    {
      "cell_type": "code",
      "metadata": {
        "id": "VbWbcrC8qZ5f",
        "colab": {
          "base_uri": "https://localhost:8080/"
        },
        "outputId": "48c5b457-fee5-4b5b-c047-5396aee5a019"
      },
      "source": [
        "%tensorflow_version 1.x "
      ],
      "execution_count": null,
      "outputs": [
        {
          "output_type": "stream",
          "name": "stdout",
          "text": [
            "TensorFlow 1.x selected.\n"
          ]
        }
      ]
    },
    {
      "cell_type": "code",
      "metadata": {
        "colab": {
          "base_uri": "https://localhost:8080/"
        },
        "id": "DN27Rjh5g-OI",
        "outputId": "c5e12dc4-5495-476d-8497-568bcd4ddb27"
      },
      "source": [
        "from google.colab import drive\n",
        "import pandas as pd\n",
        "import tensorflow as tf\n",
        "import numpy as np\n",
        "import matplotlib as mpl\n",
        "import matplotlib.pyplot as plt\n",
        "\n",
        "drive.mount('/content/drive')\n",
        "!ls \"/content/drive/My Drive\""
      ],
      "execution_count": null,
      "outputs": [
        {
          "output_type": "stream",
          "name": "stdout",
          "text": [
            "Drive already mounted at /content/drive; to attempt to forcibly remount, call drive.mount(\"/content/drive\", force_remount=True).\n",
            "'C++ '\t\t\t\t       TCGA.ESCA.sampleMap_HiSeqV2\n",
            "'Chem Honors'\t\t\t       TCGA.LUNG.sampleMap_HiSeqV2\n",
            "'Colab Notebooks'\t\t       TCGA.PAAD.sampleMap_HiSeqV2\n",
            "'Data Science   Machine Learning'      TCGA.SKCM.sampleMap_HiSeqV2\n",
            "'Eighth Grade OHS'\t\t       TCGA.STAD.sampleMap_HiSeqV2\n",
            " GTEX_normal_tissues.gz\t\t       TCGA.THCA.sampleMap_HiSeqV2\n",
            " GTEX_normal_tissues.TFs\t       TOIL_breast_GTEX.txt\n",
            " GTEX_normal_tissues.TFs.2sample.bad   TOIL_breast_TCGA.txt\n",
            " GTEX_phenotype.BREAST.221\t       TOIL_colon_GTEX.txt\n",
            " GTEX_phenotype.COLON.384\t       TOIL_colon_TCGA.txt\n",
            " GTEX_phenotype.ESOPHAGUS.807\t       TOIL_esophagus_GTEX.txt\n",
            " GTEX_phenotype.gz\t\t       TOIL_esophagus_TCGA.txt\n",
            " GTEX_phenotype.LUNG.381\t       TOIL_liver_GTEX.txt\n",
            " GTEX_phenotype.PANCREAS.203\t       TOIL_liver_TCGA.txt\n",
            " GTEX_phenotype.SKIN.979\t       TOIL_lung_GTEX.txt\n",
            " GTEX_phenotype.STOMACH.210\t       TOIL_lung_TCGA.txt\n",
            " GTEX_phenotype.THYROID.366\t       TOIL_prostate_GTEX.txt\n",
            " List_Of_TFs.gsheet\t\t       TOIL_prostate_TCGA.txt\n",
            "'list of transcription factors.txt'    TOIL_stomach_GTEX.txt\n",
            "'paper feedback.gdoc'\t\t       TOIL_stomach_TCGA.txt\n",
            "'Physics Honors'\t\t       TOIL_thyroid_GTEX.txt\n",
            "'Pioneer Academics'\t\t       TOIL_thyroid_TCGA.txt\n",
            "'Random Stuff'\t\t\t      'Tutoring Log Trackers'\n",
            "'Rough Rough Draft.gdoc'\t      'Untitled document (1).gdoc'\n",
            " TCGA.BRCA.sampleMap_HiSeqV2\t      'Untitled document.gdoc'\n",
            " TCGA.COAD.sampleMap_HiSeqV2\t      'Untitled spreadsheet.gsheet'\n"
          ]
        }
      ]
    },
    {
      "cell_type": "code",
      "metadata": {
        "id": "-T0bfeUlYrhm"
      },
      "source": [
        "# This function computes deepLIFT scores for each TF using\n",
        "# gene expression numbers for tumor cells and corresponding\n",
        "# normal tissue cells. It then plots the scores and prints the\n",
        "# top n scores. normaldf is a dataframe for nomal cells,\n",
        "# cancerdf is a dataframe for tumor cells, all_norm_df\n",
        "# is the mean gene expression of all TFs across all normal tissues\n",
        "def get_norm_cancer_scores(normaldf, cancerdf, all_norm_df):\n",
        "  #drop columns that have a low mean in either table to reduce noise\n",
        "  n_mean = normaldf.mean(axis=0)\n",
        "  c_mean = cancerdf.mean(axis=0)\n",
        "  ncols = normaldf.shape[1]\n",
        "  col_list = []\n",
        "  for i in range(0, ncols):\n",
        "    if (n_mean[i] < .1) or c_mean[i] < 0.1:\n",
        "      print(\"Dropping column %s\" %normaldf.columns[i])\n",
        "      col_list.append(i)\n",
        "\n",
        "  # This will modiify the argument in the caller to remove these columns\n",
        "  if col_list:\n",
        "    normaldf.drop(normaldf.columns[col_list], axis=1, inplace=True)\n",
        "    cancerdf.drop(cancerdf.columns[col_list], axis=1, inplace=True)\n",
        "    all_norm_df.drop(all_norm_df.columns[col_list], axis=1, inplace=True)\n",
        "\n",
        "  #make a copy to avoid changing the original dataframe\n",
        "  normal_df = normaldf.copy()\n",
        "  cancer_df = cancerdf.copy()\n",
        "\n",
        "  mean = normal_df.mean(axis=0)\n",
        "  ref = mean.to_numpy()\n",
        "  an_mean = all_norm_df.mean(axis=0)\n",
        "  an_ref = an_mean.to_numpy()\n",
        "\n",
        "  normal_df['cell_type'] = 1\n",
        "  cancer_df['cell_type'] = 2\n",
        "\n",
        "  cell_dfs = [normal_df, cancer_df] \n",
        "  X_data = pd.concat(cell_dfs) #one table that merges both types of cells\n",
        "\n",
        "  Y_data = X_data.pop('cell_type') #removing column used for training\n",
        "\n",
        "  #convert to numpy to be used for MLP model\n",
        "  Y_np = Y_data.to_numpy() \n",
        "  X_np = X_data.to_numpy()\n",
        "\n",
        "  num_patients = X_data.shape[0]\n",
        "  num_TFs = X_data.shape[1]\n",
        "\n",
        "  print(\"Number of Patients, TFs:\")\n",
        "  print(num_patients, num_TFs)\n",
        "\n",
        "  model = tf.keras.Sequential() #Sequential model\n",
        "  model.add(tf.keras.layers.Dense(256, input_shape=(num_TFs,))) #256 neurons, input has 1551 transcription factors in each row\n",
        "  model.add(tf.keras.layers.Dense(128, activation = 'relu')) #hidden layer, 128 neurons, ReLU activation function\n",
        "  model.add(tf.keras.layers.Dense(3, activation = 'softmax')) #output layer, normal or cancer types, softmax activation function\n",
        "  model.compile(optimizer = 'adam', loss ='sparse_categorical_crossentropy', metrics = ['accuracy'])  \n",
        "\n",
        "  #reshape single dimensional numpy array to array of patients vs. TFs\n",
        "  X_np_i = X_np.reshape(num_patients, num_TFs).astype(\"float32\") \n",
        "  Y_np_i = Y_np.reshape(num_patients, 1).astype(\"float32\")\n",
        "\n",
        "  X_train, X_test, Y_train, Y_test = train_test_split(X_np_i, Y_np_i, test_size=0.2, random_state=42)\n",
        "\n",
        "  model.fit(X_train, Y_train, epochs = 10, validation_data=(X_test, Y_test))\n",
        "\n",
        "  json_config = model.to_json()\n",
        "\n",
        "  with open('TCGA_tissue_model.json', 'w') as json_file: \n",
        "    json_file.write(json_config)\n",
        "\n",
        "  model.save_weights(\"TCGA_tissue_weights.h5\")\n",
        "\n",
        "  from deeplift.layers import NonlinearMxtsMode \n",
        "  import deeplift.conversion.kerasapi_conversion as kc #converts keras model to deepLIFT model\n",
        "  from collections import OrderedDict\n",
        "\n",
        "  #convert model to deepLIFT model\n",
        "  method_to_model = OrderedDict()\n",
        "  for method_name, nonlinear_mxts_mode in [\n",
        "      ('revealcancel_all_layers', NonlinearMxtsMode.RevealCancel)]:\n",
        "      method_to_model[method_name] = kc.convert_model_from_saved_files(\n",
        "        h5_file = \"TCGA_tissue_weights.h5\",\n",
        "        json_file = \"TCGA_tissue_model.json\",\n",
        "        nonlinear_mxts_mode = nonlinear_mxts_mode)  \n",
        "      \n",
        "  #make sure predictions of the deepLIFT model are the same as the original model\n",
        "  from deeplift.util import compile_func\n",
        "\n",
        "  model_to_test = method_to_model['revealcancel_all_layers'] #revealcancel: method in deepLIFT\n",
        "  deeplift_prediction_func = compile_func([model_to_test.get_layers()[0].get_activation_vars()], #0 is input layer, -1 is last layer\n",
        "                                         model_to_test.get_layers()[-1].get_activation_vars())\n",
        "  original_model_predictions = model.predict(X_np_i, batch_size = 200)\n",
        "  converted_model_predictions = deeplift.util.run_function_in_batches(\n",
        "                                input_data_list=[X_np_i],\n",
        "                                func=deeplift_prediction_func,\n",
        "                                batch_size=200,\n",
        "                                progress_update=None)\n",
        "  print(\"maximum difference in predictions:\",np.max(np.array(converted_model_predictions)-np.array(original_model_predictions)))\n",
        "  assert np.max(np.array(converted_model_predictions)-np.array(original_model_predictions)) < 10**-5\n",
        "  predictions = converted_model_predictions \n",
        "\n",
        "  method_to_scoring_func = OrderedDict()\n",
        "  for method, model in method_to_model.items(): #get scoring function for deepLIFT method\n",
        "    print(\"Compiling scoring function for: \" + method) \n",
        "    method_to_scoring_func[method] = model.get_target_contribs_func(find_scores_layer_idx=0, #get scores, 0 refers to input layer\n",
        "                                                                    target_layer_idx=-2) #for softmax, should be -2 per https://github.com/kundajelab/deeplift/blob/master/README.md \n",
        "\n",
        "  n_normal = normal_df.shape[0]\n",
        "  n_cancer = cancer_df.shape[0]\n",
        "\n",
        "  #splitting the table by into normal and cancer rows\n",
        "  X_np_normal = X_np_i[0:n_normal, :]\n",
        "  X_np_cancer = X_np_i[n_normal:n_normal+n_cancer, :] \n",
        "\n",
        "  #call scoring functions to get scores\n",
        "  method_to_task_to_scores = OrderedDict()\n",
        "  for method_name, score_func in method_to_scoring_func.items():\n",
        "    print(\"on method\",method_name)\n",
        "    method_to_task_to_scores[method_name] = OrderedDict()\n",
        "\n",
        "    task_idx = 1 #1 is normal\n",
        "    nscores = np.array(score_func( \n",
        "                    task_idx = task_idx,\n",
        "                    input_data_list= [X_np_normal],\n",
        "                    input_references_list=[an_ref], # normal tissue is reference\n",
        "                    batch_size = 200,\n",
        "                    progress_update = None))\n",
        "    normal_scores = np.sum(nscores, axis = 0)\n",
        "\n",
        "    task_idx = 2 #2 is cancer\n",
        "    cscores = np.array(score_func( \n",
        "                    task_idx = task_idx,\n",
        "                    input_data_list= [X_np_cancer],\n",
        "                    input_references_list=[ref], # normal tissue is reference\n",
        "                    batch_size = 200,\n",
        "                    progress_update = None))\n",
        "    cancer_scores = np.sum(cscores, axis = 0)\n",
        "\n",
        "    cnscores = np.array(score_func( \n",
        "                    task_idx = task_idx,\n",
        "                    input_data_list= [X_np_cancer],\n",
        "                    input_references_list=[an_ref], # all normal tissue mean is reference\n",
        "                    #input_references_list=[np.zeros_like(X_np_cancer)],\n",
        "                    batch_size = 200,\n",
        "                    progress_update = None))\n",
        "    cancer_nscores = np.sum(cnscores, axis = 0)\n",
        "\n",
        "  return normal_scores, cancer_scores, cancer_nscores\n",
        "\n",
        "def get_aggregate_norm_cancer_scores(n_df, c_df, an_df):\n",
        "  first_time = 1\n",
        "  # copy every time as get_norm_cancer_scores may drop some columns\n",
        "  all_norm_df = an_df.copy() \n",
        "  for i in range(0,10):\n",
        "    normal, cancer, cancer_anref = get_norm_cancer_scores(n_df, c_df, all_norm_df)\n",
        "    if (first_time == 1):\n",
        "      normal_agg = normal\n",
        "      cancer_agg = cancer\n",
        "      cancer_anref_agg = cancer_anref\n",
        "      first_time = 0\n",
        "    else:\n",
        "      normal_agg = np.add(normal_agg, normal)\n",
        "      cancer_agg = np.add(cancer_agg, cancer)\n",
        "      cancer_anref_agg = np.add(cancer_anref_agg, cancer_anref)\n",
        "\n",
        "  print(\"Completed aggregate scores\")\n",
        "  return normal_agg, cancer_agg, cancer_anref_agg\n",
        "\n",
        "# reove outliers - anything in the column outside of 1.5*IQR from the\n",
        "# first and thirs quartile is an outlier.  Remove outliers and return\n",
        "# the mean of the remaining values\n",
        "def remove_outliers_and_get_mean(df_in):\n",
        "    q1 = df_in.quantile(0.25)\n",
        "    q3 = df_in.quantile(0.75)\n",
        "    iqr = q3-q1 #Interquartile range\n",
        "    fence_low  = q1-1.5*iqr\n",
        "    fence_high = q3+1.5*iqr\n",
        "    df_out = df_in.loc[(df_in > fence_low) & (df_in < fence_high)]\n",
        "    return df_out.mean()\n",
        "\n",
        "def plot_scores(scores, title):\n",
        "  #plot TF versus score for normal\n",
        "  plt.style.use('seaborn-whitegrid')\n",
        "  plt.title(title)\n",
        "  plt.plot(scores, 'v', color = 'black')\n",
        "  plt.xlabel('transcription factor')\n",
        "  plt.ylabel('DeepLIFT score')\n",
        "  plt.show\n",
        "\n",
        "\n",
        "def print_scores(normal_scores, cancer_scores, cancer_nscores, X_normal_data, X_cancer_data, TFs, n, tissue):\n",
        "  print(tissue + \" normal:\")\n",
        "  max_normal_r = np.argsort(normal_scores)[-n:]\n",
        "  max_normal = np.flip(max_normal_r) # reverse it so index of highest value is first\n",
        "  print(\"Indices:\")\n",
        "  print(max_normal)\n",
        "  print(\"Aggregate scores\")\n",
        "  print(normal_scores[max_normal]) #prints the n highest aggregate scores in cancer_scores\n",
        "  print(\"Transcription factors:\")\n",
        "  TF_names = TFs.columns[max_normal]\n",
        "  print(TF_names)\n",
        "  for name in TF_names:\n",
        "    #cmean = X_cancer_data[name].mean()\n",
        "    #nmean = X_normal_data[name].mean()\n",
        "    cmean = remove_outliers_and_get_mean(X_cancer_data[name])\n",
        "    nmean = remove_outliers_and_get_mean(X_normal_data[name])\n",
        "    print(\"%s mean expression (cancer, normal): (%s %s)\" %(name,cmean,nmean))\n",
        "  print(\"\")\n",
        "  \n",
        "  print(tissue + \" cancer:\")\n",
        "  max_cancer_r = np.argsort(cancer_scores)[-n:]\n",
        "  max_cancer = np.flip(max_cancer_r) # reverse it so index of highest value is first\n",
        "  print(\"Indices:\")\n",
        "  print(max_cancer)\n",
        "  print(\"Aggregate scores\")\n",
        "  print(cancer_scores[max_cancer]) #prints the n highest aggregate scores in cancer_scores\n",
        "  print(\"Transcription factors:\")\n",
        "  TF_names = TFs.columns[max_cancer]\n",
        "  print(TF_names)\n",
        "  for name in TF_names:\n",
        "    #cmean = X_cancer_data[name].mean()\n",
        "    #nmean = X_normal_data[name].mean()\n",
        "    cmean = remove_outliers_and_get_mean(X_cancer_data[name])\n",
        "    nmean =  remove_outliers_and_get_mean(X_normal_data[name])\n",
        "    print(\"%s mean expression (cancer, normal): (%s %s)\" %(name,cmean,nmean))\n",
        "  print(\"\")  \n",
        "\n",
        "  print(tissue + \" cancer (all normal ref):\")\n",
        "  max_cancer_r = np.argsort(cancer_nscores)[-n:]\n",
        "  max_cancer = np.flip(max_cancer_r) # reverse it so index of highest value is first\n",
        "  print(\"Indices:\")\n",
        "  print(max_cancer)\n",
        "  print(\"Aggregate scores\")\n",
        "  print(cancer_nscores[max_cancer]) #prints the n highest aggregate scores in cancer_scores\n",
        "  print(\"Transcription factors:\")\n",
        "  TF_names = TFs.columns[max_cancer]\n",
        "  print(TF_names)\n",
        "  for name in TF_names:\n",
        "    #cmean = X_cancer_data[name].mean()\n",
        "    #nmean = X_normal_data[name].mean()\n",
        "    cmean = remove_outliers_and_get_mean(X_cancer_data[name])\n",
        "    nmean =  remove_outliers_and_get_mean(X_normal_data[name])\n",
        "    print(\"%s mean expression (cancer, normal): (%s %s)\" %(name,cmean,nmean))\n",
        "  print(\"\")"
      ],
      "execution_count": null,
      "outputs": []
    },
    {
      "cell_type": "code",
      "metadata": {
        "id": "oIMYPTS0KuhK"
      },
      "source": [
        "#read data from file and return. dataframe with TFs as columns and patients as rows.\n",
        "def get_tissue_data_df_t(filename, TrFa_df):\n",
        "  data_df = pd.read_csv(filename, sep = '\\\\t')\n",
        "\n",
        "  data_df.drop('Entrez_Gene_Id', axis=1, inplace=True)\n",
        "  data_df.rename(columns={'Hugo_Symbol': 'sample'}, inplace=True)\n",
        "\n",
        "  data_df_m = pd.merge(data_df, TrFa_df, on = 'sample', how = 'inner') #intersection of transcription factors in file and TF list\n",
        "\n",
        "  data_df_m = data_df_m.set_index('sample') #set index so that TFs become column names after transpose \n",
        "  data_df_m = data_df_m.sort_index(axis=0) #sort alphabetically by TF names\n",
        "  data_df_t = data_df_m.transpose() #TFs become columns, and patients become rows\n",
        "\n",
        "  return data_df_t"
      ],
      "execution_count": null,
      "outputs": []
    },
    {
      "cell_type": "code",
      "metadata": {
        "colab": {
          "base_uri": "https://localhost:8080/"
        },
        "id": "cXszNZGP7cBF",
        "outputId": "201d7cf2-56c5-4b43-e2df-10dcdca6c774"
      },
      "source": [
        "!pip install deeplift\n",
        "import deeplift\n",
        "!pip install scikit-learn\n",
        "from sklearn.model_selection import train_test_split"
      ],
      "execution_count": null,
      "outputs": [
        {
          "output_type": "stream",
          "name": "stdout",
          "text": [
            "Requirement already satisfied: deeplift in /usr/local/lib/python3.7/dist-packages (0.6.13.0)\n",
            "Requirement already satisfied: numpy>=1.9 in /usr/local/lib/python3.7/dist-packages (from deeplift) (1.19.5)\n",
            "Requirement already satisfied: scikit-learn in /usr/local/lib/python3.7/dist-packages (0.22.2.post1)\n",
            "Requirement already satisfied: scipy>=0.17.0 in /usr/local/lib/python3.7/dist-packages (from scikit-learn) (1.4.1)\n",
            "Requirement already satisfied: joblib>=0.11 in /usr/local/lib/python3.7/dist-packages (from scikit-learn) (1.0.1)\n",
            "Requirement already satisfied: numpy>=1.11.0 in /usr/local/lib/python3.7/dist-packages (from scikit-learn) (1.19.5)\n"
          ]
        }
      ]
    },
    {
      "cell_type": "code",
      "metadata": {
        "id": "yLUgcbpAYoT9"
      },
      "source": [
        "!cp \"/content/drive/My Drive/list of transcription factors.txt\" \"TF_List\""
      ],
      "execution_count": null,
      "outputs": []
    },
    {
      "cell_type": "code",
      "metadata": {
        "colab": {
          "base_uri": "https://localhost:8080/"
        },
        "id": "pUJ71BM4apDi",
        "outputId": "5298d41a-cec5-44a2-e797-762827a9c433"
      },
      "source": [
        "TrFa_df = pd.read_csv(\"TF_List\", sep = '\\\\t')"
      ],
      "execution_count": null,
      "outputs": [
        {
          "output_type": "stream",
          "name": "stderr",
          "text": [
            "/usr/local/lib/python3.7/dist-packages/ipykernel_launcher.py:1: ParserWarning: Falling back to the 'python' engine because the 'c' engine does not support regex separators (separators > 1 char and different from '\\s+' are interpreted as regex); you can avoid this warning by specifying engine='python'.\n",
            "  \"\"\"Entry point for launching an IPython kernel.\n"
          ]
        }
      ]
    },
    {
      "cell_type": "code",
      "metadata": {
        "colab": {
          "base_uri": "https://localhost:8080/"
        },
        "id": "4p5TAeJ8TJrs",
        "outputId": "ff1e4f06-1569-4d57-9c0e-d5ed79246e7f"
      },
      "source": [
        "!cp \"/content/drive/My Drive/TOIL_lung_TCGA.txt\" \"Lung_Cancer\"\n",
        "Lung_cancer_df_t = get_tissue_data_df_t(\"Lung_Cancer\", TrFa_df)"
      ],
      "execution_count": null,
      "outputs": [
        {
          "output_type": "stream",
          "name": "stderr",
          "text": [
            "/usr/local/lib/python3.7/dist-packages/ipykernel_launcher.py:3: ParserWarning: Falling back to the 'python' engine because the 'c' engine does not support regex separators (separators > 1 char and different from '\\s+' are interpreted as regex); you can avoid this warning by specifying engine='python'.\n",
            "  This is separate from the ipykernel package so we can avoid doing imports until\n"
          ]
        }
      ]
    },
    {
      "cell_type": "code",
      "metadata": {
        "colab": {
          "base_uri": "https://localhost:8080/"
        },
        "id": "8HlSVS0lTNKc",
        "outputId": "9685743e-2332-44c7-c216-9d9d31daa447"
      },
      "source": [
        "!cp \"/content/drive/My Drive/TOIL_lung_GTEX.txt\" \"Lung_normal\"\n",
        "Lung_normal_df_t = get_tissue_data_df_t(\"Lung_normal\", TrFa_df)"
      ],
      "execution_count": null,
      "outputs": [
        {
          "output_type": "stream",
          "name": "stderr",
          "text": [
            "/usr/local/lib/python3.7/dist-packages/ipykernel_launcher.py:3: ParserWarning: Falling back to the 'python' engine because the 'c' engine does not support regex separators (separators > 1 char and different from '\\s+' are interpreted as regex); you can avoid this warning by specifying engine='python'.\n",
            "  This is separate from the ipykernel package so we can avoid doing imports until\n"
          ]
        }
      ]
    },
    {
      "cell_type": "code",
      "metadata": {
        "id": "-KYJtD3bkLaT",
        "colab": {
          "base_uri": "https://localhost:8080/"
        },
        "outputId": "b8d1f70b-ebf1-4013-ff0d-7021b7df7bd2"
      },
      "source": [
        "!cp \"/content/drive/My Drive/TOIL_colon_TCGA.txt\" \"Colon_Cancer\"\n",
        "Colon_cancer_df_t = get_tissue_data_df_t(\"Colon_Cancer\", TrFa_df)"
      ],
      "execution_count": null,
      "outputs": [
        {
          "output_type": "stream",
          "name": "stderr",
          "text": [
            "/usr/local/lib/python3.7/dist-packages/ipykernel_launcher.py:3: ParserWarning: Falling back to the 'python' engine because the 'c' engine does not support regex separators (separators > 1 char and different from '\\s+' are interpreted as regex); you can avoid this warning by specifying engine='python'.\n",
            "  This is separate from the ipykernel package so we can avoid doing imports until\n"
          ]
        }
      ]
    },
    {
      "cell_type": "code",
      "metadata": {
        "id": "QFqpJSweEq3O",
        "colab": {
          "base_uri": "https://localhost:8080/"
        },
        "outputId": "567156ca-6001-4c0a-ac0a-ae88bec9b2d7"
      },
      "source": [
        "!cp \"/content/drive/My Drive/TOIL_colon_GTEX.txt\" \"Colon_Normal\"\n",
        "Colon_normal_df_t = get_tissue_data_df_t(\"Colon_Normal\", TrFa_df)"
      ],
      "execution_count": null,
      "outputs": [
        {
          "output_type": "stream",
          "name": "stderr",
          "text": [
            "/usr/local/lib/python3.7/dist-packages/ipykernel_launcher.py:3: ParserWarning: Falling back to the 'python' engine because the 'c' engine does not support regex separators (separators > 1 char and different from '\\s+' are interpreted as regex); you can avoid this warning by specifying engine='python'.\n",
            "  This is separate from the ipykernel package so we can avoid doing imports until\n"
          ]
        }
      ]
    },
    {
      "cell_type": "code",
      "metadata": {
        "colab": {
          "base_uri": "https://localhost:8080/"
        },
        "id": "DlDr5DfrTmc8",
        "outputId": "936c2c6a-4302-4a70-d8ce-e94ea78b440f"
      },
      "source": [
        "!cp \"/content/drive/My Drive/TOIL_breast_TCGA.txt\" \"Breast_Cancer\"\n",
        "Breast_cancer_df_t = get_tissue_data_df_t(\"Breast_Cancer\", TrFa_df)"
      ],
      "execution_count": null,
      "outputs": [
        {
          "output_type": "stream",
          "name": "stderr",
          "text": [
            "/usr/local/lib/python3.7/dist-packages/ipykernel_launcher.py:3: ParserWarning: Falling back to the 'python' engine because the 'c' engine does not support regex separators (separators > 1 char and different from '\\s+' are interpreted as regex); you can avoid this warning by specifying engine='python'.\n",
            "  This is separate from the ipykernel package so we can avoid doing imports until\n"
          ]
        }
      ]
    },
    {
      "cell_type": "code",
      "metadata": {
        "colab": {
          "base_uri": "https://localhost:8080/"
        },
        "id": "ajYBXgWLTxch",
        "outputId": "8a6b75a9-b08a-42d3-a333-1e2c137c0d15"
      },
      "source": [
        "!cp \"/content/drive/My Drive/TOIL_breast_GTEX.txt\" \"Breast_Normal\"\n",
        "Breast_normal_df_t = get_tissue_data_df_t(\"Breast_Normal\", TrFa_df)"
      ],
      "execution_count": null,
      "outputs": [
        {
          "output_type": "stream",
          "name": "stderr",
          "text": [
            "/usr/local/lib/python3.7/dist-packages/ipykernel_launcher.py:3: ParserWarning: Falling back to the 'python' engine because the 'c' engine does not support regex separators (separators > 1 char and different from '\\s+' are interpreted as regex); you can avoid this warning by specifying engine='python'.\n",
            "  This is separate from the ipykernel package so we can avoid doing imports until\n"
          ]
        }
      ]
    },
    {
      "cell_type": "code",
      "metadata": {
        "colab": {
          "base_uri": "https://localhost:8080/"
        },
        "id": "r0Z2VZ0xUyXT",
        "outputId": "e2c37910-0089-40eb-ef87-69405b74244b"
      },
      "source": [
        "!cp \"/content/drive/My Drive/TOIL_thyroid_TCGA.txt\" \"Thyroid_Cancer\"\n",
        "Thyroid_cancer_df_t = get_tissue_data_df_t(\"Thyroid_Cancer\", TrFa_df)"
      ],
      "execution_count": null,
      "outputs": [
        {
          "output_type": "stream",
          "name": "stderr",
          "text": [
            "/usr/local/lib/python3.7/dist-packages/ipykernel_launcher.py:3: ParserWarning: Falling back to the 'python' engine because the 'c' engine does not support regex separators (separators > 1 char and different from '\\s+' are interpreted as regex); you can avoid this warning by specifying engine='python'.\n",
            "  This is separate from the ipykernel package so we can avoid doing imports until\n"
          ]
        }
      ]
    },
    {
      "cell_type": "code",
      "metadata": {
        "colab": {
          "base_uri": "https://localhost:8080/"
        },
        "id": "63xv9w2qVNma",
        "outputId": "11fd9b27-6175-4c9b-b621-3b881c80febb"
      },
      "source": [
        "!cp \"/content/drive/My Drive/TOIL_thyroid_GTEX.txt\" \"Thyroid_Normal\"\n",
        "Thyroid_normal_df_t = get_tissue_data_df_t(\"Thyroid_Normal\", TrFa_df)"
      ],
      "execution_count": null,
      "outputs": [
        {
          "output_type": "stream",
          "name": "stderr",
          "text": [
            "/usr/local/lib/python3.7/dist-packages/ipykernel_launcher.py:3: ParserWarning: Falling back to the 'python' engine because the 'c' engine does not support regex separators (separators > 1 char and different from '\\s+' are interpreted as regex); you can avoid this warning by specifying engine='python'.\n",
            "  This is separate from the ipykernel package so we can avoid doing imports until\n"
          ]
        }
      ]
    },
    {
      "cell_type": "code",
      "metadata": {
        "colab": {
          "base_uri": "https://localhost:8080/"
        },
        "id": "BdEpdOipV2Su",
        "outputId": "4e41a190-8e52-4b46-f0e0-eaf412d38bd0"
      },
      "source": [
        "!cp \"/content/drive/My Drive/TOIL_stomach_TCGA.txt\" \"Stomach_Cancer\"\n",
        "Stomach_cancer_df_t = get_tissue_data_df_t(\"Stomach_Cancer\", TrFa_df)"
      ],
      "execution_count": null,
      "outputs": [
        {
          "output_type": "stream",
          "name": "stderr",
          "text": [
            "/usr/local/lib/python3.7/dist-packages/ipykernel_launcher.py:3: ParserWarning: Falling back to the 'python' engine because the 'c' engine does not support regex separators (separators > 1 char and different from '\\s+' are interpreted as regex); you can avoid this warning by specifying engine='python'.\n",
            "  This is separate from the ipykernel package so we can avoid doing imports until\n"
          ]
        }
      ]
    },
    {
      "cell_type": "code",
      "metadata": {
        "colab": {
          "base_uri": "https://localhost:8080/"
        },
        "id": "z3HF6B-mWCHQ",
        "outputId": "2541ff11-bc5d-408c-d887-cc3f4ec60e8e"
      },
      "source": [
        "!cp \"/content/drive/My Drive/TOIL_stomach_GTEX.txt\" \"Stomach_Normal\"\n",
        "Stomach_normal_df_t = get_tissue_data_df_t(\"Stomach_Normal\", TrFa_df)"
      ],
      "execution_count": null,
      "outputs": [
        {
          "output_type": "stream",
          "name": "stderr",
          "text": [
            "/usr/local/lib/python3.7/dist-packages/ipykernel_launcher.py:3: ParserWarning: Falling back to the 'python' engine because the 'c' engine does not support regex separators (separators > 1 char and different from '\\s+' are interpreted as regex); you can avoid this warning by specifying engine='python'.\n",
            "  This is separate from the ipykernel package so we can avoid doing imports until\n"
          ]
        }
      ]
    },
    {
      "cell_type": "code",
      "metadata": {
        "colab": {
          "base_uri": "https://localhost:8080/"
        },
        "id": "fBtIklqMWlKo",
        "outputId": "c6e586ca-fc71-4c8a-8061-15606f22c9a5"
      },
      "source": [
        "!cp \"/content/drive/My Drive/TOIL_prostate_TCGA.txt\" \"Prostate_Cancer\"\n",
        "Prostate_cancer_df_t = get_tissue_data_df_t(\"Prostate_Cancer\", TrFa_df)"
      ],
      "execution_count": null,
      "outputs": [
        {
          "output_type": "stream",
          "name": "stderr",
          "text": [
            "/usr/local/lib/python3.7/dist-packages/ipykernel_launcher.py:3: ParserWarning: Falling back to the 'python' engine because the 'c' engine does not support regex separators (separators > 1 char and different from '\\s+' are interpreted as regex); you can avoid this warning by specifying engine='python'.\n",
            "  This is separate from the ipykernel package so we can avoid doing imports until\n"
          ]
        }
      ]
    },
    {
      "cell_type": "code",
      "metadata": {
        "colab": {
          "base_uri": "https://localhost:8080/"
        },
        "id": "xKMS14_5Ws6O",
        "outputId": "6a52b819-68aa-4d89-d468-f29a8447ea26"
      },
      "source": [
        "!cp \"/content/drive/My Drive/TOIL_prostate_GTEX.txt\" \"Prostate_Normal\"\n",
        "Prostate_normal_df_t = get_tissue_data_df_t(\"Prostate_Normal\", TrFa_df)"
      ],
      "execution_count": null,
      "outputs": [
        {
          "output_type": "stream",
          "name": "stderr",
          "text": [
            "/usr/local/lib/python3.7/dist-packages/ipykernel_launcher.py:3: ParserWarning: Falling back to the 'python' engine because the 'c' engine does not support regex separators (separators > 1 char and different from '\\s+' are interpreted as regex); you can avoid this warning by specifying engine='python'.\n",
            "  This is separate from the ipykernel package so we can avoid doing imports until\n"
          ]
        }
      ]
    },
    {
      "cell_type": "code",
      "metadata": {
        "colab": {
          "base_uri": "https://localhost:8080/"
        },
        "id": "euYQJJJXW9q4",
        "outputId": "7e433958-a2d1-4bc4-de4b-302883a0477e"
      },
      "source": [
        "!cp \"/content/drive/My Drive/TOIL_esophagus_TCGA.txt\" \"Esophagus_Cancer\"\n",
        "Esophagus_cancer_df_t = get_tissue_data_df_t(\"Esophagus_Cancer\", TrFa_df)"
      ],
      "execution_count": null,
      "outputs": [
        {
          "output_type": "stream",
          "name": "stderr",
          "text": [
            "/usr/local/lib/python3.7/dist-packages/ipykernel_launcher.py:3: ParserWarning: Falling back to the 'python' engine because the 'c' engine does not support regex separators (separators > 1 char and different from '\\s+' are interpreted as regex); you can avoid this warning by specifying engine='python'.\n",
            "  This is separate from the ipykernel package so we can avoid doing imports until\n"
          ]
        }
      ]
    },
    {
      "cell_type": "code",
      "metadata": {
        "colab": {
          "base_uri": "https://localhost:8080/"
        },
        "id": "hmSuvaqYXHwo",
        "outputId": "e020e504-4891-4ba4-c989-53bc47855ad7"
      },
      "source": [
        "!cp \"/content/drive/My Drive/TOIL_esophagus_GTEX.txt\" \"Esophagus_Normal\"\n",
        "Esophagus_normal_df_t = get_tissue_data_df_t(\"Esophagus_Normal\", TrFa_df)"
      ],
      "execution_count": null,
      "outputs": [
        {
          "output_type": "stream",
          "name": "stderr",
          "text": [
            "/usr/local/lib/python3.7/dist-packages/ipykernel_launcher.py:3: ParserWarning: Falling back to the 'python' engine because the 'c' engine does not support regex separators (separators > 1 char and different from '\\s+' are interpreted as regex); you can avoid this warning by specifying engine='python'.\n",
            "  This is separate from the ipykernel package so we can avoid doing imports until\n"
          ]
        }
      ]
    },
    {
      "cell_type": "code",
      "metadata": {
        "colab": {
          "base_uri": "https://localhost:8080/"
        },
        "id": "K1fOnAYJYBgY",
        "outputId": "1414a434-2235-4c5f-a364-ca321b4a5864"
      },
      "source": [
        "!cp \"/content/drive/My Drive/TOIL_liver_TCGA.txt\" \"Liver_Cancer\"\n",
        "Liver_cancer_df_t = get_tissue_data_df_t(\"Liver_Cancer\", TrFa_df)"
      ],
      "execution_count": null,
      "outputs": [
        {
          "output_type": "stream",
          "name": "stderr",
          "text": [
            "/usr/local/lib/python3.7/dist-packages/ipykernel_launcher.py:3: ParserWarning: Falling back to the 'python' engine because the 'c' engine does not support regex separators (separators > 1 char and different from '\\s+' are interpreted as regex); you can avoid this warning by specifying engine='python'.\n",
            "  This is separate from the ipykernel package so we can avoid doing imports until\n"
          ]
        }
      ]
    },
    {
      "cell_type": "code",
      "metadata": {
        "colab": {
          "base_uri": "https://localhost:8080/"
        },
        "id": "aw9tRBMeYZYK",
        "outputId": "9924812b-f365-432d-dd08-cdd54cccf853"
      },
      "source": [
        "!cp \"/content/drive/My Drive/TOIL_liver_GTEX.txt\" \"Liver_Normal\"\n",
        "Liver_normal_df_t = get_tissue_data_df_t(\"Liver_Normal\", TrFa_df)"
      ],
      "execution_count": null,
      "outputs": [
        {
          "output_type": "stream",
          "name": "stderr",
          "text": [
            "/usr/local/lib/python3.7/dist-packages/ipykernel_launcher.py:3: ParserWarning: Falling back to the 'python' engine because the 'c' engine does not support regex separators (separators > 1 char and different from '\\s+' are interpreted as regex); you can avoid this warning by specifying engine='python'.\n",
            "  This is separate from the ipykernel package so we can avoid doing imports until\n"
          ]
        }
      ]
    },
    {
      "cell_type": "code",
      "metadata": {
        "id": "iYHQ-b3fToBv"
      },
      "source": [
        "#get TFs that. are common across all cancers and normal tissues\n",
        "common_cols = Lung_cancer_df_t.columns & Lung_normal_df_t.columns & \\\n",
        "              Colon_cancer_df_t.columns & Colon_normal_df_t.columns & \\\n",
        "              Breast_cancer_df_t.columns & Breast_normal_df_t.columns & \\\n",
        "              Thyroid_cancer_df_t.columns & Thyroid_normal_df_t.columns & \\\n",
        "              Stomach_cancer_df_t.columns & Stomach_normal_df_t.columns & \\\n",
        "              Prostate_cancer_df_t.columns & Prostate_normal_df_t.columns & \\\n",
        "              Esophagus_cancer_df_t.columns & Esophagus_normal_df_t.columns & \\\n",
        "              Liver_cancer_df_t.columns & Liver_normal_df_t.columns"
      ],
      "execution_count": null,
      "outputs": []
    },
    {
      "cell_type": "code",
      "metadata": {
        "id": "OzGLYqMtVp2n"
      },
      "source": [
        "# Retain omly the common columns\n",
        "Lung_cancer_df_t = Lung_cancer_df_t[common_cols]\n",
        "Lung_normal_df_t = Lung_normal_df_t[common_cols]\n",
        "Colon_cancer_df_t = Colon_cancer_df_t[common_cols]\n",
        "Colon_normal_df_t = Colon_normal_df_t[common_cols]\n",
        "Breast_cancer_df_t = Breast_cancer_df_t[common_cols]\n",
        "Breast_normal_df_t = Breast_normal_df_t[common_cols]\n",
        "Thyroid_cancer_df_t = Thyroid_cancer_df_t[common_cols]\n",
        "Thyroid_normal_df_t = Thyroid_normal_df_t[common_cols]\n",
        "Stomach_cancer_df_t = Stomach_cancer_df_t[common_cols]\n",
        "Stomach_normal_df_t = Stomach_normal_df_t[common_cols]\n",
        "Prostate_cancer_df_t = Prostate_cancer_df_t[common_cols]\n",
        "Prostate_normal_df_t = Prostate_normal_df_t[common_cols]\n",
        "Esophagus_cancer_df_t = Esophagus_cancer_df_t[common_cols]\n",
        "Esophagus_normal_df_t = Esophagus_normal_df_t[common_cols]\n",
        "Liver_cancer_df_t = Liver_cancer_df_t[common_cols]\n",
        "Liver_normal_df_t = Liver_normal_df_t[common_cols]"
      ],
      "execution_count": null,
      "outputs": []
    },
    {
      "cell_type": "code",
      "metadata": {
        "id": "9CX_2ASGYXTD"
      },
      "source": [
        "#Get concatenated table of all normal tissue before adding the 'cancer_type' column.\n",
        "#This will be used to get the mean of TF expression values across all tissue types,\n",
        "#which can then be used as the DeepLIFT reference.\n",
        "ref_normal_dfs = [Lung_normal_df_t, Colon_normal_df_t, Breast_normal_df_t, Thyroid_normal_df_t, Stomach_normal_df_t, Prostate_normal_df_t, Esophagus_normal_df_t, Liver_normal_df_t]\n",
        "ref_normal_df_t = pd.concat(ref_normal_dfs) #one table that merges all types of tissues"
      ],
      "execution_count": null,
      "outputs": []
    },
    {
      "cell_type": "code",
      "metadata": {
        "colab": {
          "base_uri": "https://localhost:8080/"
        },
        "id": "ShWh2gEk6IvP",
        "outputId": "41f98a58-00e8-49f9-e2cd-62ac8533d488"
      },
      "source": [
        "lung_nscore, lung_cscore, lung_ncscore = get_aggregate_norm_cancer_scores(Lung_normal_df_t, Lung_cancer_df_t, ref_normal_df_t)\n",
        "colon_nscore, colon_cscore, colon_ncscore = get_aggregate_norm_cancer_scores(Colon_normal_df_t, Colon_cancer_df_t, ref_normal_df_t)\n",
        "breast_nscore, breast_cscore, breast_ncscore = get_aggregate_norm_cancer_scores(Breast_normal_df_t, Breast_cancer_df_t, ref_normal_df_t)\n",
        "thyroid_nscore, thyroid_cscore, thyroid_ncscore = get_aggregate_norm_cancer_scores(Thyroid_normal_df_t, Thyroid_cancer_df_t, ref_normal_df_t)\n",
        "stomach_nscore, stomach_cscore, stomach_ncscore = get_aggregate_norm_cancer_scores(Stomach_normal_df_t, Stomach_cancer_df_t, ref_normal_df_t)\n",
        "prostate_nscore, prostate_cscore, prostate_ncscore = get_aggregate_norm_cancer_scores(Prostate_normal_df_t, Prostate_cancer_df_t, ref_normal_df_t)\n",
        "esophagus_nscore, esophagus_cscore, esophagus_ncscore = get_aggregate_norm_cancer_scores(Esophagus_normal_df_t, Esophagus_cancer_df_t, ref_normal_df_t)\n",
        "liver_nscore, liver_cscore, liver_ncscore = get_aggregate_norm_cancer_scores(Liver_normal_df_t, Liver_cancer_df_t, ref_normal_df_t)"
      ],
      "execution_count": null,
      "outputs": [
        {
          "metadata": {
            "tags": null
          },
          "name": "stdout",
          "output_type": "stream",
          "text": [
            "Number of Patients, TFs:\n",
            "816 1486\n",
            "Train on 652 samples, validate on 164 samples\n",
            "Epoch 1/10\n",
            "652/652 [==============================] - 0s 370us/sample - loss: 694.3527 - acc: 0.8696 - val_loss: 976.5697 - val_acc: 0.9634\n",
            "Epoch 2/10\n",
            "652/652 [==============================] - 0s 195us/sample - loss: 28.9858 - acc: 0.9831 - val_loss: 383.7970 - val_acc: 0.9634\n",
            "Epoch 3/10\n",
            "652/652 [==============================] - 0s 178us/sample - loss: 5.5130 - acc: 0.9908 - val_loss: 304.7314 - val_acc: 0.9634\n",
            "Epoch 4/10\n",
            "652/652 [==============================] - 0s 180us/sample - loss: 5.6931 - acc: 0.9939 - val_loss: 267.0844 - val_acc: 0.9756\n",
            "Epoch 5/10\n",
            "652/652 [==============================] - 0s 168us/sample - loss: 3.1839 - acc: 0.9939 - val_loss: 269.5011 - val_acc: 0.9817\n",
            "Epoch 6/10\n",
            "652/652 [==============================] - 0s 161us/sample - loss: 5.9651 - acc: 0.9893 - val_loss: 274.3217 - val_acc: 0.9817\n",
            "Epoch 7/10\n",
            "652/652 [==============================] - 0s 185us/sample - loss: 2.5173 - acc: 0.9985 - val_loss: 269.3588 - val_acc: 0.9817\n",
            "Epoch 8/10\n",
            "652/652 [==============================] - 0s 161us/sample - loss: 0.0000e+00 - acc: 1.0000 - val_loss: 267.3142 - val_acc: 0.9817\n",
            "Epoch 9/10\n",
            "652/652 [==============================] - 0s 203us/sample - loss: 0.0000e+00 - acc: 1.0000 - val_loss: 267.0745 - val_acc: 0.9817\n",
            "Epoch 10/10\n",
            "652/652 [==============================] - 0s 168us/sample - loss: 0.0000e+00 - acc: 1.0000 - val_loss: 267.0466 - val_acc: 0.9817\n",
            "nonlinear_mxts_mode is set to: RevealCancel\n",
            "WARNING:tensorflow:From /usr/local/lib/python3.7/dist-packages/deeplift/layers/core.py:207: The name tf.placeholder is deprecated. Please use tf.compat.v1.placeholder instead.\n",
            "\n",
            "Heads-up: I assume softmax is the output layer, not an intermediate one; if it's an intermediate layer, please let me know and I will prioritise that use-case\n",
            "maximum difference in predictions: 0.0\n",
            "Compiling scoring function for: revealcancel_all_layers\n",
            "WARNING:tensorflow:From /usr/local/lib/python3.7/dist-packages/deeplift/layers/core.py:455: The name tf.variables_initializer is deprecated. Please use tf.compat.v1.variables_initializer instead.\n",
            "\n"
          ]
        },
        {
          "metadata": {
            "tags": null
          },
          "name": "stderr",
          "output_type": "stream",
          "text": [
            "Using TensorFlow backend.\n"
          ]
        },
        {
          "output_type": "stream",
          "name": "stdout",
          "text": [
            "WARNING:tensorflow:From /usr/local/lib/python3.7/dist-packages/deeplift/layers/core.py:471: The name tf.assign is deprecated. Please use tf.compat.v1.assign instead.\n",
            "\n",
            "WARNING:tensorflow:From /usr/local/lib/python3.7/dist-packages/deeplift/layers/core.py:473: The name tf.scatter_update is deprecated. Please use tf.compat.v1.scatter_update instead.\n",
            "\n",
            "on method revealcancel_all_layers\n",
            "Number of Patients, TFs:\n",
            "816 1486\n",
            "Train on 652 samples, validate on 164 samples\n",
            "Epoch 1/10\n",
            "652/652 [==============================] - 0s 394us/sample - loss: 1072.1023 - acc: 0.8482 - val_loss: 359.8797 - val_acc: 0.9573\n",
            "Epoch 2/10\n",
            "652/652 [==============================] - 0s 188us/sample - loss: 41.8945 - acc: 0.9724 - val_loss: 55.8083 - val_acc: 0.9756\n",
            "Epoch 3/10\n",
            "652/652 [==============================] - 0s 157us/sample - loss: 19.8431 - acc: 0.9847 - val_loss: 1.9652 - val_acc: 0.9939\n",
            "Epoch 4/10\n",
            "652/652 [==============================] - 0s 166us/sample - loss: 5.0905 - acc: 0.9923 - val_loss: 0.0000e+00 - val_acc: 1.0000\n",
            "Epoch 5/10\n",
            "652/652 [==============================] - 0s 159us/sample - loss: 6.4885 - acc: 0.9877 - val_loss: 0.0561 - val_acc: 0.9939\n",
            "Epoch 6/10\n",
            "652/652 [==============================] - 0s 177us/sample - loss: 0.9609 - acc: 0.9954 - val_loss: 0.0000e+00 - val_acc: 1.0000\n",
            "Epoch 7/10\n",
            "652/652 [==============================] - 0s 158us/sample - loss: 0.0000e+00 - acc: 1.0000 - val_loss: 19.7712 - val_acc: 0.9695\n",
            "Epoch 8/10\n",
            "652/652 [==============================] - 0s 163us/sample - loss: 0.2049 - acc: 0.9985 - val_loss: 0.0000e+00 - val_acc: 1.0000\n",
            "Epoch 9/10\n",
            "652/652 [==============================] - 0s 192us/sample - loss: 2.6476 - acc: 0.9954 - val_loss: 7.5199 - val_acc: 0.9756\n",
            "Epoch 10/10\n",
            "652/652 [==============================] - 0s 176us/sample - loss: 0.0000e+00 - acc: 1.0000 - val_loss: 0.0000e+00 - val_acc: 1.0000\n",
            "nonlinear_mxts_mode is set to: RevealCancel\n",
            "Heads-up: I assume softmax is the output layer, not an intermediate one; if it's an intermediate layer, please let me know and I will prioritise that use-case\n",
            "maximum difference in predictions: 0.0\n",
            "Compiling scoring function for: revealcancel_all_layers\n",
            "on method revealcancel_all_layers\n",
            "Number of Patients, TFs:\n",
            "816 1486\n",
            "Train on 652 samples, validate on 164 samples\n",
            "Epoch 1/10\n",
            "652/652 [==============================] - 0s 429us/sample - loss: 972.7981 - acc: 0.8742 - val_loss: 589.8593 - val_acc: 0.9207\n",
            "Epoch 2/10\n",
            "652/652 [==============================] - 0s 166us/sample - loss: 31.8013 - acc: 0.9816 - val_loss: 578.8162 - val_acc: 0.8841\n",
            "Epoch 3/10\n",
            "652/652 [==============================] - 0s 180us/sample - loss: 31.2272 - acc: 0.9847 - val_loss: 444.0320 - val_acc: 0.9817\n",
            "Epoch 4/10\n",
            "652/652 [==============================] - 0s 175us/sample - loss: 9.0598 - acc: 0.9908 - val_loss: 448.8589 - val_acc: 0.9817\n",
            "Epoch 5/10\n",
            "652/652 [==============================] - 0s 157us/sample - loss: 4.2191 - acc: 0.9923 - val_loss: 439.4060 - val_acc: 0.9756\n",
            "Epoch 6/10\n",
            "652/652 [==============================] - 0s 170us/sample - loss: 7.1231 - acc: 0.9939 - val_loss: 435.9066 - val_acc: 0.9756\n",
            "Epoch 7/10\n",
            "652/652 [==============================] - 0s 169us/sample - loss: 6.5117 - acc: 0.9939 - val_loss: 416.8999 - val_acc: 0.9756\n",
            "Epoch 8/10\n",
            "652/652 [==============================] - 0s 166us/sample - loss: 3.7751 - acc: 0.9969 - val_loss: 398.5555 - val_acc: 0.9817\n",
            "Epoch 9/10\n",
            "652/652 [==============================] - 0s 170us/sample - loss: 7.4016 - acc: 0.9908 - val_loss: 390.3551 - val_acc: 0.9817\n",
            "Epoch 10/10\n",
            "652/652 [==============================] - 0s 166us/sample - loss: 6.4927 - acc: 0.9939 - val_loss: 51.6968 - val_acc: 0.9878\n",
            "nonlinear_mxts_mode is set to: RevealCancel\n",
            "Heads-up: I assume softmax is the output layer, not an intermediate one; if it's an intermediate layer, please let me know and I will prioritise that use-case\n",
            "maximum difference in predictions: 0.0\n",
            "Compiling scoring function for: revealcancel_all_layers\n",
            "on method revealcancel_all_layers\n",
            "Number of Patients, TFs:\n",
            "816 1486\n",
            "Train on 652 samples, validate on 164 samples\n",
            "Epoch 1/10\n",
            "652/652 [==============================] - 0s 531us/sample - loss: 274.5061 - acc: 0.8804 - val_loss: 403.4296 - val_acc: 0.9634\n",
            "Epoch 2/10\n",
            "652/652 [==============================] - 0s 169us/sample - loss: 78.9807 - acc: 0.9862 - val_loss: 391.4096 - val_acc: 0.9756\n",
            "Epoch 3/10\n",
            "652/652 [==============================] - 0s 170us/sample - loss: 17.9792 - acc: 0.9877 - val_loss: 412.8620 - val_acc: 0.9634\n",
            "Epoch 4/10\n",
            "652/652 [==============================] - 0s 203us/sample - loss: 22.5337 - acc: 0.9862 - val_loss: 331.0299 - val_acc: 0.9878\n",
            "Epoch 5/10\n",
            "652/652 [==============================] - 0s 171us/sample - loss: 6.7979 - acc: 0.9939 - val_loss: 329.2789 - val_acc: 0.9878\n",
            "Epoch 6/10\n",
            "652/652 [==============================] - 0s 186us/sample - loss: 33.2180 - acc: 0.9770 - val_loss: 328.6993 - val_acc: 0.9878\n",
            "Epoch 7/10\n",
            "652/652 [==============================] - 0s 160us/sample - loss: 9.8671 - acc: 0.9954 - val_loss: 5.2122 - val_acc: 0.9939\n",
            "Epoch 8/10\n",
            "652/652 [==============================] - 0s 162us/sample - loss: 18.0376 - acc: 0.9893 - val_loss: 17.0438 - val_acc: 0.9878\n",
            "Epoch 9/10\n",
            "652/652 [==============================] - 0s 205us/sample - loss: 0.6773 - acc: 0.9985 - val_loss: 9.1719 - val_acc: 0.9878\n",
            "Epoch 10/10\n",
            "652/652 [==============================] - 0s 163us/sample - loss: 6.5626 - acc: 0.9923 - val_loss: 6.7824 - val_acc: 0.9878\n",
            "nonlinear_mxts_mode is set to: RevealCancel\n",
            "Heads-up: I assume softmax is the output layer, not an intermediate one; if it's an intermediate layer, please let me know and I will prioritise that use-case\n",
            "maximum difference in predictions: 0.0\n",
            "Compiling scoring function for: revealcancel_all_layers\n",
            "on method revealcancel_all_layers\n",
            "Number of Patients, TFs:\n",
            "816 1486\n",
            "Train on 652 samples, validate on 164 samples\n",
            "Epoch 1/10\n",
            "652/652 [==============================] - 0s 640us/sample - loss: 1061.1272 - acc: 0.7837 - val_loss: 573.2337 - val_acc: 0.9451\n",
            "Epoch 2/10\n",
            "652/652 [==============================] - 0s 178us/sample - loss: 53.5999 - acc: 0.9540 - val_loss: 225.0454 - val_acc: 0.9756\n",
            "Epoch 3/10\n",
            "652/652 [==============================] - 0s 169us/sample - loss: 6.4590 - acc: 0.9908 - val_loss: 202.7375 - val_acc: 0.9634\n",
            "Epoch 4/10\n",
            "652/652 [==============================] - 0s 174us/sample - loss: 12.7354 - acc: 0.9785 - val_loss: 242.9829 - val_acc: 0.9390\n",
            "Epoch 5/10\n",
            "652/652 [==============================] - 0s 164us/sample - loss: 13.6706 - acc: 0.9862 - val_loss: 264.4119 - val_acc: 0.9268\n",
            "Epoch 6/10\n",
            "652/652 [==============================] - 0s 169us/sample - loss: 6.0850 - acc: 0.9877 - val_loss: 177.1734 - val_acc: 0.9817\n",
            "Epoch 7/10\n",
            "652/652 [==============================] - 0s 166us/sample - loss: 1.6034 - acc: 0.9908 - val_loss: 170.9350 - val_acc: 0.9878\n",
            "Epoch 8/10\n",
            "652/652 [==============================] - 0s 173us/sample - loss: 4.9707 - acc: 0.9954 - val_loss: 189.7440 - val_acc: 0.9634\n",
            "Epoch 9/10\n",
            "652/652 [==============================] - 0s 181us/sample - loss: 4.8112 - acc: 0.9923 - val_loss: 162.1860 - val_acc: 0.9817\n",
            "Epoch 10/10\n",
            "652/652 [==============================] - 0s 174us/sample - loss: 0.8690 - acc: 0.9969 - val_loss: 174.6216 - val_acc: 0.9756\n",
            "nonlinear_mxts_mode is set to: RevealCancel\n",
            "Heads-up: I assume softmax is the output layer, not an intermediate one; if it's an intermediate layer, please let me know and I will prioritise that use-case\n",
            "maximum difference in predictions: 0.0\n",
            "Compiling scoring function for: revealcancel_all_layers\n",
            "on method revealcancel_all_layers\n",
            "Number of Patients, TFs:\n",
            "816 1486\n",
            "Train on 652 samples, validate on 164 samples\n",
            "Epoch 1/10\n",
            "652/652 [==============================] - 1s 793us/sample - loss: 878.2448 - acc: 0.8543 - val_loss: 178.9669 - val_acc: 0.9634\n",
            "Epoch 2/10\n",
            "652/652 [==============================] - 0s 166us/sample - loss: 36.6105 - acc: 0.9724 - val_loss: 61.9331 - val_acc: 0.9634\n",
            "Epoch 3/10\n",
            "652/652 [==============================] - 0s 175us/sample - loss: 8.3262 - acc: 0.9893 - val_loss: 57.2458 - val_acc: 0.9634\n",
            "Epoch 4/10\n",
            "652/652 [==============================] - 0s 185us/sample - loss: 7.9508 - acc: 0.9893 - val_loss: 40.5526 - val_acc: 0.9817\n",
            "Epoch 5/10\n",
            "652/652 [==============================] - 0s 165us/sample - loss: 11.4636 - acc: 0.9816 - val_loss: 12.2261 - val_acc: 0.9817\n",
            "Epoch 6/10\n",
            "652/652 [==============================] - 0s 211us/sample - loss: 4.0698 - acc: 0.9908 - val_loss: 29.4149 - val_acc: 0.9817\n",
            "Epoch 7/10\n",
            "652/652 [==============================] - 0s 187us/sample - loss: 2.4430 - acc: 0.9939 - val_loss: 56.9908 - val_acc: 0.9695\n",
            "Epoch 8/10\n",
            "652/652 [==============================] - 0s 177us/sample - loss: 8.0907 - acc: 0.9831 - val_loss: 21.0720 - val_acc: 0.9878\n",
            "Epoch 9/10\n",
            "652/652 [==============================] - 0s 176us/sample - loss: 8.3011 - acc: 0.9893 - val_loss: 17.3460 - val_acc: 0.9878\n",
            "Epoch 10/10\n",
            "652/652 [==============================] - 0s 179us/sample - loss: 0.8790 - acc: 0.9985 - val_loss: 1.0165 - val_acc: 0.9939\n",
            "nonlinear_mxts_mode is set to: RevealCancel\n",
            "Heads-up: I assume softmax is the output layer, not an intermediate one; if it's an intermediate layer, please let me know and I will prioritise that use-case\n",
            "maximum difference in predictions: 0.0\n",
            "Compiling scoring function for: revealcancel_all_layers\n",
            "on method revealcancel_all_layers\n",
            "Number of Patients, TFs:\n",
            "816 1486\n",
            "Train on 652 samples, validate on 164 samples\n",
            "Epoch 1/10\n",
            "652/652 [==============================] - 1s 811us/sample - loss: 513.6012 - acc: 0.8497 - val_loss: 37.6830 - val_acc: 0.9573\n",
            "Epoch 2/10\n",
            "652/652 [==============================] - 0s 179us/sample - loss: 25.9711 - acc: 0.9862 - val_loss: 45.0378 - val_acc: 0.9756\n",
            "Epoch 3/10\n",
            "652/652 [==============================] - 0s 183us/sample - loss: 12.8141 - acc: 0.9893 - val_loss: 29.7700 - val_acc: 0.9634\n",
            "Epoch 4/10\n",
            "652/652 [==============================] - 0s 193us/sample - loss: 5.2849 - acc: 0.9923 - val_loss: 17.2305 - val_acc: 0.9817\n",
            "Epoch 5/10\n",
            "652/652 [==============================] - 0s 227us/sample - loss: 15.1023 - acc: 0.9847 - val_loss: 71.3270 - val_acc: 0.9085\n",
            "Epoch 6/10\n",
            "652/652 [==============================] - 0s 195us/sample - loss: 12.9200 - acc: 0.9831 - val_loss: 0.7113 - val_acc: 0.9939\n",
            "Epoch 7/10\n",
            "652/652 [==============================] - 0s 172us/sample - loss: 6.2765 - acc: 0.9893 - val_loss: 0.0000e+00 - val_acc: 1.0000\n",
            "Epoch 8/10\n",
            "652/652 [==============================] - 0s 191us/sample - loss: 1.0907 - acc: 0.9939 - val_loss: 14.8461 - val_acc: 0.9878\n",
            "Epoch 9/10\n",
            "652/652 [==============================] - 0s 183us/sample - loss: 8.5724 - acc: 0.9908 - val_loss: 34.2439 - val_acc: 0.9756\n",
            "Epoch 10/10\n",
            "652/652 [==============================] - 0s 179us/sample - loss: 0.5986 - acc: 0.9985 - val_loss: 7.3798 - val_acc: 0.9939\n",
            "nonlinear_mxts_mode is set to: RevealCancel\n",
            "Heads-up: I assume softmax is the output layer, not an intermediate one; if it's an intermediate layer, please let me know and I will prioritise that use-case\n",
            "maximum difference in predictions: 0.0\n",
            "Compiling scoring function for: revealcancel_all_layers\n",
            "on method revealcancel_all_layers\n",
            "Number of Patients, TFs:\n",
            "816 1486\n",
            "Train on 652 samples, validate on 164 samples\n",
            "Epoch 1/10\n",
            "652/652 [==============================] - 1s 902us/sample - loss: 1137.6063 - acc: 0.8788 - val_loss: 842.6934 - val_acc: 0.9634\n",
            "Epoch 2/10\n",
            "652/652 [==============================] - 0s 166us/sample - loss: 28.3963 - acc: 0.9831 - val_loss: 302.3891 - val_acc: 0.9634\n",
            "Epoch 3/10\n",
            "652/652 [==============================] - 0s 191us/sample - loss: 29.9997 - acc: 0.9831 - val_loss: 221.1899 - val_acc: 0.9817\n",
            "Epoch 4/10\n",
            "652/652 [==============================] - 0s 173us/sample - loss: 19.4767 - acc: 0.9847 - val_loss: 227.6351 - val_acc: 0.9817\n",
            "Epoch 5/10\n",
            "652/652 [==============================] - 0s 175us/sample - loss: 3.0323 - acc: 0.9954 - val_loss: 212.1325 - val_acc: 0.9817\n",
            "Epoch 6/10\n",
            "652/652 [==============================] - 0s 227us/sample - loss: 10.5800 - acc: 0.9923 - val_loss: 211.7000 - val_acc: 0.9817\n",
            "Epoch 7/10\n",
            "652/652 [==============================] - 0s 173us/sample - loss: 2.4843 - acc: 0.9954 - val_loss: 197.8877 - val_acc: 0.9878\n",
            "Epoch 8/10\n",
            "652/652 [==============================] - 0s 165us/sample - loss: 0.0000e+00 - acc: 1.0000 - val_loss: 187.4545 - val_acc: 0.9878\n",
            "Epoch 9/10\n",
            "652/652 [==============================] - 0s 177us/sample - loss: 0.0456 - acc: 0.9985 - val_loss: 260.8217 - val_acc: 0.9512\n",
            "Epoch 10/10\n",
            "652/652 [==============================] - 0s 169us/sample - loss: 10.1099 - acc: 0.9939 - val_loss: 221.0261 - val_acc: 0.9817\n",
            "nonlinear_mxts_mode is set to: RevealCancel\n",
            "Heads-up: I assume softmax is the output layer, not an intermediate one; if it's an intermediate layer, please let me know and I will prioritise that use-case\n",
            "maximum difference in predictions: 0.0\n",
            "Compiling scoring function for: revealcancel_all_layers\n",
            "on method revealcancel_all_layers\n",
            "Number of Patients, TFs:\n",
            "816 1486\n",
            "Train on 652 samples, validate on 164 samples\n",
            "Epoch 1/10\n",
            "652/652 [==============================] - 1s 1ms/sample - loss: 1217.7349 - acc: 0.8911 - val_loss: 233.2337 - val_acc: 0.8841\n",
            "Epoch 2/10\n",
            "652/652 [==============================] - 0s 209us/sample - loss: 30.1048 - acc: 0.9831 - val_loss: 57.6342 - val_acc: 0.9817\n",
            "Epoch 3/10\n",
            "652/652 [==============================] - 0s 186us/sample - loss: 51.2610 - acc: 0.9893 - val_loss: 24.5223 - val_acc: 0.9817\n",
            "Epoch 4/10\n",
            "652/652 [==============================] - 0s 178us/sample - loss: 34.0466 - acc: 0.9816 - val_loss: 31.3371 - val_acc: 0.9878\n",
            "Epoch 5/10\n",
            "652/652 [==============================] - 0s 187us/sample - loss: 27.9252 - acc: 0.9862 - val_loss: 124.6999 - val_acc: 0.9573\n",
            "Epoch 6/10\n",
            "652/652 [==============================] - 0s 223us/sample - loss: 6.6375 - acc: 0.9939 - val_loss: 0.0000e+00 - val_acc: 1.0000\n",
            "Epoch 7/10\n",
            "652/652 [==============================] - 0s 207us/sample - loss: 16.9422 - acc: 0.9862 - val_loss: 6.9980 - val_acc: 0.9939\n",
            "Epoch 8/10\n",
            "652/652 [==============================] - 0s 191us/sample - loss: 28.3081 - acc: 0.9877 - val_loss: 133.3623 - val_acc: 0.9634\n",
            "Epoch 9/10\n",
            "652/652 [==============================] - 0s 215us/sample - loss: 16.8145 - acc: 0.9923 - val_loss: 47.0343 - val_acc: 0.9878\n",
            "Epoch 10/10\n",
            "652/652 [==============================] - 0s 211us/sample - loss: 12.9850 - acc: 0.9923 - val_loss: 14.5545 - val_acc: 0.9939\n",
            "nonlinear_mxts_mode is set to: RevealCancel\n",
            "Heads-up: I assume softmax is the output layer, not an intermediate one; if it's an intermediate layer, please let me know and I will prioritise that use-case\n",
            "maximum difference in predictions: 0.0\n",
            "Compiling scoring function for: revealcancel_all_layers\n",
            "on method revealcancel_all_layers\n",
            "Number of Patients, TFs:\n",
            "816 1486\n",
            "Train on 652 samples, validate on 164 samples\n",
            "Epoch 1/10\n",
            "652/652 [==============================] - 1s 1ms/sample - loss: 568.7465 - acc: 0.8083 - val_loss: 410.0260 - val_acc: 0.8841\n",
            "Epoch 2/10\n",
            "652/652 [==============================] - 0s 177us/sample - loss: 240.5134 - acc: 0.9540 - val_loss: 29.7386 - val_acc: 0.9634\n",
            "Epoch 3/10\n",
            "652/652 [==============================] - 0s 215us/sample - loss: 10.5648 - acc: 0.9847 - val_loss: 15.6275 - val_acc: 0.9756\n",
            "Epoch 4/10\n",
            "652/652 [==============================] - 0s 187us/sample - loss: 4.2271 - acc: 0.9939 - val_loss: 11.2144 - val_acc: 0.9878\n",
            "Epoch 5/10\n",
            "652/652 [==============================] - 0s 168us/sample - loss: 2.1061 - acc: 0.9939 - val_loss: 3.6119 - val_acc: 0.9939\n",
            "Epoch 6/10\n",
            "652/652 [==============================] - 0s 183us/sample - loss: 0.8998 - acc: 0.9969 - val_loss: 6.7305 - val_acc: 0.9939\n",
            "Epoch 7/10\n",
            "652/652 [==============================] - 0s 179us/sample - loss: 1.0155 - acc: 0.9985 - val_loss: 3.4372 - val_acc: 0.9817\n",
            "Epoch 8/10\n",
            "652/652 [==============================] - 0s 221us/sample - loss: 2.7171 - acc: 0.9954 - val_loss: 20.3379 - val_acc: 0.9817\n",
            "Epoch 9/10\n",
            "652/652 [==============================] - 0s 183us/sample - loss: 1.9772 - acc: 0.9969 - val_loss: 5.6484 - val_acc: 0.9939\n",
            "Epoch 10/10\n",
            "652/652 [==============================] - 0s 181us/sample - loss: 3.8526 - acc: 0.9939 - val_loss: 19.9485 - val_acc: 0.9756\n",
            "nonlinear_mxts_mode is set to: RevealCancel\n",
            "Heads-up: I assume softmax is the output layer, not an intermediate one; if it's an intermediate layer, please let me know and I will prioritise that use-case\n",
            "maximum difference in predictions: 0.0\n",
            "Compiling scoring function for: revealcancel_all_layers\n",
            "on method revealcancel_all_layers\n",
            "Completed aggregate scores\n",
            "Dropping column LBX1\n",
            "Dropping column LHX8\n",
            "Number of Patients, TFs:\n",
            "624 1484\n",
            "Train on 499 samples, validate on 125 samples\n",
            "Epoch 1/10\n",
            "499/499 [==============================] - 1s 2ms/sample - loss: 719.2189 - acc: 0.7796 - val_loss: 14.8528 - val_acc: 0.9520\n",
            "Epoch 2/10\n",
            "499/499 [==============================] - 0s 196us/sample - loss: 13.6983 - acc: 0.9820 - val_loss: 1.5921 - val_acc: 0.9920\n",
            "Epoch 3/10\n",
            "499/499 [==============================] - 0s 197us/sample - loss: 4.9270 - acc: 0.9940 - val_loss: 7.3320 - val_acc: 0.9920\n",
            "Epoch 4/10\n",
            "499/499 [==============================] - 0s 179us/sample - loss: 2.6260 - acc: 0.9960 - val_loss: 2.5972 - val_acc: 0.9920\n",
            "Epoch 5/10\n",
            "499/499 [==============================] - 0s 199us/sample - loss: 3.1909 - acc: 0.9960 - val_loss: 6.6986 - val_acc: 0.9920\n",
            "Epoch 6/10\n",
            "499/499 [==============================] - 0s 193us/sample - loss: 3.8748 - acc: 0.9940 - val_loss: 3.3163 - val_acc: 0.9920\n",
            "Epoch 7/10\n",
            "499/499 [==============================] - 0s 191us/sample - loss: 0.0000e+00 - acc: 1.0000 - val_loss: 0.0000e+00 - val_acc: 1.0000\n",
            "Epoch 8/10\n",
            "499/499 [==============================] - 0s 203us/sample - loss: 0.0000e+00 - acc: 1.0000 - val_loss: 0.0000e+00 - val_acc: 1.0000\n",
            "Epoch 9/10\n",
            "499/499 [==============================] - 0s 212us/sample - loss: 0.0000e+00 - acc: 1.0000 - val_loss: 0.0000e+00 - val_acc: 1.0000\n",
            "Epoch 10/10\n",
            "499/499 [==============================] - 0s 177us/sample - loss: 0.0000e+00 - acc: 1.0000 - val_loss: 0.0000e+00 - val_acc: 1.0000\n",
            "nonlinear_mxts_mode is set to: RevealCancel\n",
            "Heads-up: I assume softmax is the output layer, not an intermediate one; if it's an intermediate layer, please let me know and I will prioritise that use-case\n",
            "maximum difference in predictions: 0.0\n",
            "Compiling scoring function for: revealcancel_all_layers\n",
            "on method revealcancel_all_layers\n",
            "Number of Patients, TFs:\n",
            "624 1484\n",
            "Train on 499 samples, validate on 125 samples\n",
            "Epoch 1/10\n",
            "499/499 [==============================] - 1s 2ms/sample - loss: 359.1041 - acc: 0.7836 - val_loss: 0.0000e+00 - val_acc: 1.0000\n",
            "Epoch 2/10\n",
            "499/499 [==============================] - 0s 210us/sample - loss: 14.2831 - acc: 0.9880 - val_loss: 42.1197 - val_acc: 0.9600\n",
            "Epoch 3/10\n",
            "499/499 [==============================] - 0s 187us/sample - loss: 10.3296 - acc: 0.9920 - val_loss: 0.0000e+00 - val_acc: 1.0000\n",
            "Epoch 4/10\n",
            "499/499 [==============================] - 0s 198us/sample - loss: 2.2997 - acc: 0.9960 - val_loss: 0.0000e+00 - val_acc: 1.0000\n",
            "Epoch 5/10\n",
            "499/499 [==============================] - 0s 185us/sample - loss: 6.4104 - acc: 0.9940 - val_loss: 0.0000e+00 - val_acc: 1.0000\n",
            "Epoch 6/10\n",
            "499/499 [==============================] - 0s 197us/sample - loss: 0.0000e+00 - acc: 1.0000 - val_loss: 0.0000e+00 - val_acc: 1.0000\n",
            "Epoch 7/10\n",
            "499/499 [==============================] - 0s 193us/sample - loss: 0.3499 - acc: 0.9980 - val_loss: 0.0000e+00 - val_acc: 1.0000\n",
            "Epoch 8/10\n",
            "499/499 [==============================] - 0s 218us/sample - loss: 5.4095 - acc: 0.9960 - val_loss: 4.7909 - val_acc: 0.9920\n",
            "Epoch 9/10\n",
            "499/499 [==============================] - 0s 201us/sample - loss: 9.8840 - acc: 0.9920 - val_loss: 25.2855 - val_acc: 0.9840\n",
            "Epoch 10/10\n",
            "499/499 [==============================] - 0s 229us/sample - loss: 9.7926 - acc: 0.9920 - val_loss: 33.6077 - val_acc: 0.9840\n",
            "nonlinear_mxts_mode is set to: RevealCancel\n",
            "Heads-up: I assume softmax is the output layer, not an intermediate one; if it's an intermediate layer, please let me know and I will prioritise that use-case\n",
            "maximum difference in predictions: 0.0\n",
            "Compiling scoring function for: revealcancel_all_layers\n",
            "on method revealcancel_all_layers\n",
            "Number of Patients, TFs:\n",
            "624 1484\n",
            "Train on 499 samples, validate on 125 samples\n",
            "Epoch 1/10\n",
            "499/499 [==============================] - 1s 2ms/sample - loss: 202.9796 - acc: 0.8577 - val_loss: 41.4310 - val_acc: 0.9680\n",
            "Epoch 2/10\n",
            "499/499 [==============================] - 0s 226us/sample - loss: 83.6705 - acc: 0.9439 - val_loss: 101.2704 - val_acc: 0.9360\n",
            "Epoch 3/10\n",
            "499/499 [==============================] - 0s 184us/sample - loss: 22.4393 - acc: 0.9800 - val_loss: 0.0000e+00 - val_acc: 1.0000\n",
            "Epoch 4/10\n",
            "499/499 [==============================] - 0s 206us/sample - loss: 5.6766 - acc: 0.9940 - val_loss: 0.0000e+00 - val_acc: 1.0000\n",
            "Epoch 5/10\n",
            "499/499 [==============================] - 0s 192us/sample - loss: 5.4418 - acc: 0.9980 - val_loss: 0.0000e+00 - val_acc: 1.0000\n",
            "Epoch 6/10\n",
            "499/499 [==============================] - 0s 198us/sample - loss: 0.9492 - acc: 0.9980 - val_loss: 0.0000e+00 - val_acc: 1.0000\n",
            "Epoch 7/10\n",
            "499/499 [==============================] - 0s 203us/sample - loss: 3.5688 - acc: 0.9960 - val_loss: 0.0000e+00 - val_acc: 1.0000\n",
            "Epoch 8/10\n",
            "499/499 [==============================] - 0s 188us/sample - loss: 7.2369 - acc: 0.9980 - val_loss: 4.4584 - val_acc: 0.9920\n",
            "Epoch 9/10\n",
            "499/499 [==============================] - 0s 194us/sample - loss: 2.5573 - acc: 0.9980 - val_loss: 0.0000e+00 - val_acc: 1.0000\n",
            "Epoch 10/10\n",
            "499/499 [==============================] - 0s 205us/sample - loss: 0.3933 - acc: 0.9980 - val_loss: 0.0000e+00 - val_acc: 1.0000\n",
            "nonlinear_mxts_mode is set to: RevealCancel\n",
            "Heads-up: I assume softmax is the output layer, not an intermediate one; if it's an intermediate layer, please let me know and I will prioritise that use-case\n",
            "maximum difference in predictions: 0.0\n",
            "Compiling scoring function for: revealcancel_all_layers\n",
            "on method revealcancel_all_layers\n",
            "Number of Patients, TFs:\n",
            "624 1484\n",
            "Train on 499 samples, validate on 125 samples\n",
            "Epoch 1/10\n",
            "499/499 [==============================] - 1s 2ms/sample - loss: 292.1559 - acc: 0.8036 - val_loss: 2.9024 - val_acc: 0.9920\n",
            "Epoch 2/10\n",
            "499/499 [==============================] - 0s 198us/sample - loss: 10.6232 - acc: 0.9880 - val_loss: 10.2765 - val_acc: 0.9840\n",
            "Epoch 3/10\n",
            "499/499 [==============================] - 0s 188us/sample - loss: 9.2867 - acc: 0.9860 - val_loss: 0.0000e+00 - val_acc: 1.0000\n",
            "Epoch 4/10\n",
            "499/499 [==============================] - 0s 227us/sample - loss: 6.2751 - acc: 0.9860 - val_loss: 81.6329 - val_acc: 0.8960\n",
            "Epoch 5/10\n",
            "499/499 [==============================] - 0s 215us/sample - loss: 11.7925 - acc: 0.9880 - val_loss: 0.0000e+00 - val_acc: 1.0000\n",
            "Epoch 6/10\n",
            "499/499 [==============================] - 0s 203us/sample - loss: 6.8143 - acc: 0.9940 - val_loss: 0.3015 - val_acc: 0.9920\n",
            "Epoch 7/10\n",
            "499/499 [==============================] - 0s 206us/sample - loss: 10.8933 - acc: 0.9900 - val_loss: 0.0000e+00 - val_acc: 1.0000\n",
            "Epoch 8/10\n",
            "499/499 [==============================] - 0s 225us/sample - loss: 12.0062 - acc: 0.9940 - val_loss: 30.4529 - val_acc: 0.9600\n",
            "Epoch 9/10\n",
            "499/499 [==============================] - 0s 208us/sample - loss: 0.0868 - acc: 0.9980 - val_loss: 0.0000e+00 - val_acc: 1.0000\n",
            "Epoch 10/10\n",
            "499/499 [==============================] - 0s 184us/sample - loss: 0.0000e+00 - acc: 1.0000 - val_loss: 0.0000e+00 - val_acc: 1.0000\n",
            "nonlinear_mxts_mode is set to: RevealCancel\n",
            "Heads-up: I assume softmax is the output layer, not an intermediate one; if it's an intermediate layer, please let me know and I will prioritise that use-case\n",
            "maximum difference in predictions: 0.0\n",
            "Compiling scoring function for: revealcancel_all_layers\n",
            "on method revealcancel_all_layers\n",
            "Number of Patients, TFs:\n",
            "624 1484\n",
            "Train on 499 samples, validate on 125 samples\n",
            "Epoch 1/10\n",
            "499/499 [==============================] - 1s 2ms/sample - loss: 641.3668 - acc: 0.7695 - val_loss: 7.4639 - val_acc: 0.9760\n",
            "Epoch 2/10\n",
            "499/499 [==============================] - 0s 205us/sample - loss: 3.4542 - acc: 0.9940 - val_loss: 15.2595 - val_acc: 0.9520\n",
            "Epoch 3/10\n",
            "499/499 [==============================] - 0s 216us/sample - loss: 3.7772 - acc: 0.9940 - val_loss: 0.0000e+00 - val_acc: 1.0000\n",
            "Epoch 4/10\n",
            "499/499 [==============================] - 0s 208us/sample - loss: 1.5155 - acc: 0.9980 - val_loss: 3.0339 - val_acc: 0.9920\n",
            "Epoch 5/10\n",
            "499/499 [==============================] - 0s 182us/sample - loss: 0.9490 - acc: 0.9980 - val_loss: 0.0000e+00 - val_acc: 1.0000\n",
            "Epoch 6/10\n",
            "499/499 [==============================] - 0s 203us/sample - loss: 0.0000e+00 - acc: 1.0000 - val_loss: 3.0841 - val_acc: 0.9920\n",
            "Epoch 7/10\n",
            "499/499 [==============================] - 0s 230us/sample - loss: 0.0000e+00 - acc: 1.0000 - val_loss: 9.4398 - val_acc: 0.9760\n",
            "Epoch 8/10\n",
            "499/499 [==============================] - 0s 210us/sample - loss: 2.3237 - acc: 0.9960 - val_loss: 0.0000e+00 - val_acc: 1.0000\n",
            "Epoch 9/10\n",
            "499/499 [==============================] - 0s 261us/sample - loss: 0.9531 - acc: 0.9980 - val_loss: 0.0000e+00 - val_acc: 1.0000\n",
            "Epoch 10/10\n",
            "499/499 [==============================] - 0s 378us/sample - loss: 0.0000e+00 - acc: 1.0000 - val_loss: 0.0000e+00 - val_acc: 1.0000\n",
            "nonlinear_mxts_mode is set to: RevealCancel\n",
            "Heads-up: I assume softmax is the output layer, not an intermediate one; if it's an intermediate layer, please let me know and I will prioritise that use-case\n",
            "maximum difference in predictions: 0.0\n",
            "Compiling scoring function for: revealcancel_all_layers\n",
            "on method revealcancel_all_layers\n",
            "Number of Patients, TFs:\n",
            "624 1484\n",
            "Train on 499 samples, validate on 125 samples\n",
            "Epoch 1/10\n",
            "499/499 [==============================] - 1s 2ms/sample - loss: 214.0422 - acc: 0.8457 - val_loss: 0.0000e+00 - val_acc: 1.0000\n",
            "Epoch 2/10\n",
            "499/499 [==============================] - 0s 221us/sample - loss: 5.9185 - acc: 0.9940 - val_loss: 0.4906 - val_acc: 0.9920\n",
            "Epoch 3/10\n",
            "499/499 [==============================] - 0s 214us/sample - loss: 7.2499 - acc: 0.9960 - val_loss: 4.7961 - val_acc: 0.9920\n",
            "Epoch 4/10\n",
            "499/499 [==============================] - 0s 198us/sample - loss: 4.1163 - acc: 0.9900 - val_loss: 0.0000e+00 - val_acc: 1.0000\n",
            "Epoch 5/10\n",
            "499/499 [==============================] - 0s 214us/sample - loss: 1.3665 - acc: 0.9940 - val_loss: 0.0000e+00 - val_acc: 1.0000\n",
            "Epoch 6/10\n",
            "499/499 [==============================] - 0s 218us/sample - loss: 0.5889 - acc: 0.9960 - val_loss: 0.0000e+00 - val_acc: 1.0000\n",
            "Epoch 7/10\n",
            "499/499 [==============================] - 0s 237us/sample - loss: 0.0000e+00 - acc: 1.0000 - val_loss: 0.2392 - val_acc: 0.9920\n",
            "Epoch 8/10\n",
            "499/499 [==============================] - 0s 203us/sample - loss: 1.1424 - acc: 0.9980 - val_loss: 0.0000e+00 - val_acc: 1.0000\n",
            "Epoch 9/10\n",
            "499/499 [==============================] - 0s 198us/sample - loss: 4.9950 - acc: 0.9900 - val_loss: 0.0000e+00 - val_acc: 1.0000\n",
            "Epoch 10/10\n",
            "499/499 [==============================] - 0s 210us/sample - loss: 8.0703 - acc: 0.9860 - val_loss: 0.0000e+00 - val_acc: 1.0000\n",
            "nonlinear_mxts_mode is set to: RevealCancel\n",
            "Heads-up: I assume softmax is the output layer, not an intermediate one; if it's an intermediate layer, please let me know and I will prioritise that use-case\n",
            "maximum difference in predictions: 0.0\n",
            "Compiling scoring function for: revealcancel_all_layers\n",
            "on method revealcancel_all_layers\n",
            "Number of Patients, TFs:\n",
            "624 1484\n",
            "Train on 499 samples, validate on 125 samples\n",
            "Epoch 1/10\n",
            "499/499 [==============================] - 1s 2ms/sample - loss: 989.2085 - acc: 0.6774 - val_loss: 66.5087 - val_acc: 0.9120\n",
            "Epoch 2/10\n",
            "499/499 [==============================] - 0s 196us/sample - loss: 16.4994 - acc: 0.9679 - val_loss: 14.7414 - val_acc: 0.9920\n",
            "Epoch 3/10\n",
            "499/499 [==============================] - 0s 229us/sample - loss: 3.5754 - acc: 0.9940 - val_loss: 3.8671 - val_acc: 0.9920\n",
            "Epoch 4/10\n",
            "499/499 [==============================] - 0s 217us/sample - loss: 3.2251 - acc: 0.9980 - val_loss: 0.0000e+00 - val_acc: 1.0000\n",
            "Epoch 5/10\n",
            "499/499 [==============================] - 0s 218us/sample - loss: 1.5601 - acc: 0.9960 - val_loss: 0.0000e+00 - val_acc: 1.0000\n",
            "Epoch 6/10\n",
            "499/499 [==============================] - 0s 207us/sample - loss: 0.0000e+00 - acc: 1.0000 - val_loss: 0.0000e+00 - val_acc: 1.0000\n",
            "Epoch 7/10\n",
            "499/499 [==============================] - 0s 213us/sample - loss: 0.0000e+00 - acc: 1.0000 - val_loss: 0.0000e+00 - val_acc: 1.0000\n",
            "Epoch 8/10\n",
            "499/499 [==============================] - 0s 192us/sample - loss: 0.0000e+00 - acc: 1.0000 - val_loss: 0.0000e+00 - val_acc: 1.0000\n",
            "Epoch 9/10\n",
            "499/499 [==============================] - 0s 221us/sample - loss: 0.0000e+00 - acc: 1.0000 - val_loss: 0.0000e+00 - val_acc: 1.0000\n",
            "Epoch 10/10\n",
            "499/499 [==============================] - 0s 213us/sample - loss: 0.0000e+00 - acc: 1.0000 - val_loss: 0.0000e+00 - val_acc: 1.0000\n",
            "nonlinear_mxts_mode is set to: RevealCancel\n",
            "Heads-up: I assume softmax is the output layer, not an intermediate one; if it's an intermediate layer, please let me know and I will prioritise that use-case\n",
            "maximum difference in predictions: 0.0\n",
            "Compiling scoring function for: revealcancel_all_layers\n",
            "on method revealcancel_all_layers\n",
            "Number of Patients, TFs:\n",
            "624 1484\n",
            "Train on 499 samples, validate on 125 samples\n",
            "Epoch 1/10\n",
            "499/499 [==============================] - 1s 3ms/sample - loss: 507.4895 - acc: 0.7796 - val_loss: 2.9365 - val_acc: 0.9840\n",
            "Epoch 2/10\n",
            "499/499 [==============================] - 0s 250us/sample - loss: 22.4564 - acc: 0.9820 - val_loss: 8.0307 - val_acc: 0.9840\n",
            "Epoch 3/10\n",
            "499/499 [==============================] - 0s 210us/sample - loss: 6.5471 - acc: 0.9960 - val_loss: 8.2879 - val_acc: 0.9840\n",
            "Epoch 4/10\n",
            "499/499 [==============================] - 0s 234us/sample - loss: 5.9171 - acc: 0.9920 - val_loss: 0.3075 - val_acc: 0.9920\n",
            "Epoch 5/10\n",
            "499/499 [==============================] - 0s 231us/sample - loss: 4.6060 - acc: 0.9960 - val_loss: 29.4287 - val_acc: 0.9680\n",
            "Epoch 6/10\n",
            "499/499 [==============================] - 0s 210us/sample - loss: 3.9871 - acc: 0.9880 - val_loss: 0.0000e+00 - val_acc: 1.0000\n",
            "Epoch 7/10\n",
            "499/499 [==============================] - 0s 213us/sample - loss: 2.9434 - acc: 0.9940 - val_loss: 15.8111 - val_acc: 0.9840\n",
            "Epoch 8/10\n",
            "499/499 [==============================] - 0s 221us/sample - loss: 3.6989 - acc: 0.9960 - val_loss: 9.2432 - val_acc: 0.9840\n",
            "Epoch 9/10\n",
            "499/499 [==============================] - 0s 199us/sample - loss: 1.0742 - acc: 0.9980 - val_loss: 0.0000e+00 - val_acc: 1.0000\n",
            "Epoch 10/10\n",
            "499/499 [==============================] - 0s 212us/sample - loss: 0.5338 - acc: 0.9980 - val_loss: 0.0000e+00 - val_acc: 1.0000\n",
            "nonlinear_mxts_mode is set to: RevealCancel\n",
            "Heads-up: I assume softmax is the output layer, not an intermediate one; if it's an intermediate layer, please let me know and I will prioritise that use-case\n",
            "maximum difference in predictions: 0.0\n",
            "Compiling scoring function for: revealcancel_all_layers\n",
            "on method revealcancel_all_layers\n",
            "Number of Patients, TFs:\n",
            "624 1484\n",
            "Train on 499 samples, validate on 125 samples\n",
            "Epoch 1/10\n",
            "499/499 [==============================] - 1s 3ms/sample - loss: 310.6126 - acc: 0.8357 - val_loss: 21.0605 - val_acc: 0.9840\n",
            "Epoch 2/10\n",
            "499/499 [==============================] - 0s 194us/sample - loss: 15.6295 - acc: 0.9860 - val_loss: 0.0000e+00 - val_acc: 1.0000\n",
            "Epoch 3/10\n",
            "499/499 [==============================] - 0s 209us/sample - loss: 6.8598 - acc: 0.9920 - val_loss: 0.0000e+00 - val_acc: 1.0000\n",
            "Epoch 4/10\n",
            "499/499 [==============================] - 0s 222us/sample - loss: 12.8076 - acc: 0.9880 - val_loss: 0.0000e+00 - val_acc: 1.0000\n",
            "Epoch 5/10\n",
            "499/499 [==============================] - 0s 211us/sample - loss: 3.4272 - acc: 0.9980 - val_loss: 0.0000e+00 - val_acc: 1.0000\n",
            "Epoch 6/10\n",
            "499/499 [==============================] - 0s 224us/sample - loss: 2.0355 - acc: 0.9960 - val_loss: 0.0000e+00 - val_acc: 1.0000\n",
            "Epoch 7/10\n",
            "499/499 [==============================] - 0s 206us/sample - loss: 0.0000e+00 - acc: 1.0000 - val_loss: 0.0000e+00 - val_acc: 1.0000\n",
            "Epoch 8/10\n",
            "499/499 [==============================] - 0s 223us/sample - loss: 0.0000e+00 - acc: 1.0000 - val_loss: 0.0000e+00 - val_acc: 1.0000\n",
            "Epoch 9/10\n",
            "499/499 [==============================] - 0s 213us/sample - loss: 0.0000e+00 - acc: 1.0000 - val_loss: 0.0000e+00 - val_acc: 1.0000\n",
            "Epoch 10/10\n",
            "499/499 [==============================] - 0s 208us/sample - loss: 0.0000e+00 - acc: 1.0000 - val_loss: 0.0000e+00 - val_acc: 1.0000\n",
            "nonlinear_mxts_mode is set to: RevealCancel\n",
            "Heads-up: I assume softmax is the output layer, not an intermediate one; if it's an intermediate layer, please let me know and I will prioritise that use-case\n",
            "maximum difference in predictions: 0.0\n",
            "Compiling scoring function for: revealcancel_all_layers\n",
            "on method revealcancel_all_layers\n",
            "Number of Patients, TFs:\n",
            "624 1484\n",
            "Train on 499 samples, validate on 125 samples\n",
            "Epoch 1/10\n",
            "499/499 [==============================] - 2s 3ms/sample - loss: 819.4857 - acc: 0.7535 - val_loss: 55.4428 - val_acc: 0.9280\n",
            "Epoch 2/10\n",
            "499/499 [==============================] - 0s 207us/sample - loss: 6.4701 - acc: 0.9880 - val_loss: 11.5545 - val_acc: 0.9920\n",
            "Epoch 3/10\n",
            "499/499 [==============================] - 0s 242us/sample - loss: 1.9394 - acc: 0.9980 - val_loss: 5.8245 - val_acc: 0.9920\n",
            "Epoch 4/10\n",
            "499/499 [==============================] - 0s 227us/sample - loss: 0.0000e+00 - acc: 1.0000 - val_loss: 0.9823 - val_acc: 0.9920\n",
            "Epoch 5/10\n",
            "499/499 [==============================] - 0s 223us/sample - loss: 0.0411 - acc: 0.9980 - val_loss: 8.8612 - val_acc: 0.9920\n",
            "Epoch 6/10\n",
            "499/499 [==============================] - 0s 225us/sample - loss: 3.3072 - acc: 0.9960 - val_loss: 4.8636e-07 - val_acc: 1.0000\n",
            "Epoch 7/10\n",
            "499/499 [==============================] - 0s 254us/sample - loss: 3.2993 - acc: 0.9980 - val_loss: 0.0000e+00 - val_acc: 1.0000\n",
            "Epoch 8/10\n",
            "499/499 [==============================] - 0s 221us/sample - loss: 0.0000e+00 - acc: 1.0000 - val_loss: 0.0000e+00 - val_acc: 1.0000\n",
            "Epoch 9/10\n",
            "499/499 [==============================] - 0s 257us/sample - loss: 0.0000e+00 - acc: 1.0000 - val_loss: 0.0323 - val_acc: 0.9920\n",
            "Epoch 10/10\n",
            "499/499 [==============================] - 0s 220us/sample - loss: 0.0000e+00 - acc: 1.0000 - val_loss: 0.1516 - val_acc: 0.9920\n",
            "nonlinear_mxts_mode is set to: RevealCancel\n",
            "Heads-up: I assume softmax is the output layer, not an intermediate one; if it's an intermediate layer, please let me know and I will prioritise that use-case\n",
            "maximum difference in predictions: 0.0\n",
            "Compiling scoring function for: revealcancel_all_layers\n",
            "on method revealcancel_all_layers\n",
            "Completed aggregate scores\n",
            "Dropping column NKX6-2\n",
            "Dropping column SP8\n",
            "Dropping column SRY\n",
            "Number of Patients, TFs:\n",
            "1071 1483\n",
            "Train on 856 samples, validate on 215 samples\n",
            "Epoch 1/10\n",
            "856/856 [==============================] - 2s 2ms/sample - loss: 598.4841 - acc: 0.9007 - val_loss: 79.8649 - val_acc: 0.9535\n",
            "Epoch 2/10\n",
            "856/856 [==============================] - 0s 229us/sample - loss: 88.0105 - acc: 0.9801 - val_loss: 50.1242 - val_acc: 0.9814\n",
            "Epoch 3/10\n",
            "856/856 [==============================] - 0s 206us/sample - loss: 196.0651 - acc: 0.9907 - val_loss: 13.2209 - val_acc: 0.9907\n",
            "Epoch 4/10\n",
            "856/856 [==============================] - 0s 204us/sample - loss: 55.9992 - acc: 0.9918 - val_loss: 9.4165 - val_acc: 0.9860\n",
            "Epoch 5/10\n",
            "856/856 [==============================] - 0s 252us/sample - loss: 18.9098 - acc: 0.9883 - val_loss: 144.4319 - val_acc: 0.9395\n",
            "Epoch 6/10\n",
            "856/856 [==============================] - 0s 211us/sample - loss: 3.9538 - acc: 0.9953 - val_loss: 3.6430 - val_acc: 0.9953\n",
            "Epoch 7/10\n",
            "856/856 [==============================] - 0s 202us/sample - loss: 2.2374 - acc: 0.9977 - val_loss: 65.1985 - val_acc: 0.9721\n",
            "Epoch 8/10\n",
            "856/856 [==============================] - 0s 217us/sample - loss: 7.8968 - acc: 0.9918 - val_loss: 13.1249 - val_acc: 0.9860\n",
            "Epoch 9/10\n",
            "856/856 [==============================] - 0s 237us/sample - loss: 8.5337 - acc: 0.9977 - val_loss: 42.2250 - val_acc: 0.9860\n",
            "Epoch 10/10\n",
            "856/856 [==============================] - 0s 237us/sample - loss: 203.8808 - acc: 0.9778 - val_loss: 42.5291 - val_acc: 0.9674\n",
            "nonlinear_mxts_mode is set to: RevealCancel\n",
            "Heads-up: I assume softmax is the output layer, not an intermediate one; if it's an intermediate layer, please let me know and I will prioritise that use-case\n",
            "maximum difference in predictions: 0.0\n",
            "Compiling scoring function for: revealcancel_all_layers\n",
            "on method revealcancel_all_layers\n",
            "Number of Patients, TFs:\n",
            "1071 1483\n",
            "Train on 856 samples, validate on 215 samples\n",
            "Epoch 1/10\n",
            "856/856 [==============================] - 2s 2ms/sample - loss: 716.8011 - acc: 0.8890 - val_loss: 45.1749 - val_acc: 0.9721\n",
            "Epoch 2/10\n",
            "856/856 [==============================] - 0s 214us/sample - loss: 40.7008 - acc: 0.9907 - val_loss: 50.8656 - val_acc: 0.9767\n",
            "Epoch 3/10\n",
            "856/856 [==============================] - 0s 207us/sample - loss: 207.7103 - acc: 0.9883 - val_loss: 86.9342 - val_acc: 0.9581\n",
            "Epoch 4/10\n",
            "856/856 [==============================] - 0s 229us/sample - loss: 184.7247 - acc: 0.9778 - val_loss: 33.6762 - val_acc: 0.9860\n",
            "Epoch 5/10\n",
            "856/856 [==============================] - 0s 238us/sample - loss: 66.4136 - acc: 0.9883 - val_loss: 31.5530 - val_acc: 0.9907\n",
            "Epoch 6/10\n",
            "856/856 [==============================] - 0s 238us/sample - loss: 145.3987 - acc: 0.9801 - val_loss: 12.6207 - val_acc: 0.9907\n",
            "Epoch 7/10\n",
            "856/856 [==============================] - 0s 211us/sample - loss: 10.6931 - acc: 0.9977 - val_loss: 38.3442 - val_acc: 0.9860\n",
            "Epoch 8/10\n",
            "856/856 [==============================] - 0s 239us/sample - loss: 34.0234 - acc: 0.9942 - val_loss: 50.6239 - val_acc: 0.9860\n",
            "Epoch 9/10\n",
            "856/856 [==============================] - 0s 207us/sample - loss: 86.4076 - acc: 0.9848 - val_loss: 40.6497 - val_acc: 0.9907\n",
            "Epoch 10/10\n",
            "856/856 [==============================] - 0s 221us/sample - loss: 9.3135 - acc: 0.9965 - val_loss: 17.3164 - val_acc: 0.9907\n",
            "nonlinear_mxts_mode is set to: RevealCancel\n",
            "Heads-up: I assume softmax is the output layer, not an intermediate one; if it's an intermediate layer, please let me know and I will prioritise that use-case\n",
            "maximum difference in predictions: 0.0\n",
            "Compiling scoring function for: revealcancel_all_layers\n",
            "on method revealcancel_all_layers\n",
            "Number of Patients, TFs:\n",
            "1071 1483\n",
            "Train on 856 samples, validate on 215 samples\n",
            "Epoch 1/10\n",
            "856/856 [==============================] - 2s 2ms/sample - loss: 513.7974 - acc: 0.9124 - val_loss: 20.0114 - val_acc: 0.9767\n",
            "Epoch 2/10\n",
            "856/856 [==============================] - 0s 256us/sample - loss: 237.4942 - acc: 0.9685 - val_loss: 12.5781 - val_acc: 0.9860\n",
            "Epoch 3/10\n",
            "856/856 [==============================] - 0s 214us/sample - loss: 95.2019 - acc: 0.9907 - val_loss: 2.5266 - val_acc: 0.9953\n",
            "Epoch 4/10\n",
            "856/856 [==============================] - 0s 240us/sample - loss: 78.9735 - acc: 0.9813 - val_loss: 0.0000e+00 - val_acc: 1.0000\n",
            "Epoch 5/10\n",
            "856/856 [==============================] - 0s 238us/sample - loss: 14.9041 - acc: 0.9918 - val_loss: 11.8674 - val_acc: 0.9907\n",
            "Epoch 6/10\n",
            "856/856 [==============================] - 0s 262us/sample - loss: 1.9709 - acc: 0.9953 - val_loss: 0.0000e+00 - val_acc: 1.0000\n",
            "Epoch 7/10\n",
            "856/856 [==============================] - 0s 240us/sample - loss: 3.3285 - acc: 0.9953 - val_loss: 2.4338 - val_acc: 0.9953\n",
            "Epoch 8/10\n",
            "856/856 [==============================] - 0s 234us/sample - loss: 54.4230 - acc: 0.9942 - val_loss: 47.4479 - val_acc: 0.9721\n",
            "Epoch 9/10\n",
            "856/856 [==============================] - 0s 221us/sample - loss: 91.0733 - acc: 0.9836 - val_loss: 5.1593 - val_acc: 0.9814\n",
            "Epoch 10/10\n",
            "856/856 [==============================] - 0s 211us/sample - loss: 32.1997 - acc: 0.9942 - val_loss: 25.9537 - val_acc: 0.9814\n",
            "nonlinear_mxts_mode is set to: RevealCancel\n",
            "Heads-up: I assume softmax is the output layer, not an intermediate one; if it's an intermediate layer, please let me know and I will prioritise that use-case\n",
            "maximum difference in predictions: 0.0\n",
            "Compiling scoring function for: revealcancel_all_layers\n",
            "on method revealcancel_all_layers\n",
            "Number of Patients, TFs:\n",
            "1071 1483\n",
            "Train on 856 samples, validate on 215 samples\n",
            "Epoch 1/10\n",
            "856/856 [==============================] - 2s 2ms/sample - loss: 578.8916 - acc: 0.9042 - val_loss: 97.3052 - val_acc: 0.9767\n",
            "Epoch 2/10\n",
            "856/856 [==============================] - 0s 268us/sample - loss: 97.0515 - acc: 0.9778 - val_loss: 16.3344 - val_acc: 0.9860\n",
            "Epoch 3/10\n",
            "856/856 [==============================] - 0s 244us/sample - loss: 161.1678 - acc: 0.9895 - val_loss: 44.6821 - val_acc: 0.9767\n",
            "Epoch 4/10\n",
            "856/856 [==============================] - 0s 268us/sample - loss: 112.0051 - acc: 0.9871 - val_loss: 2.1243 - val_acc: 0.9953\n",
            "Epoch 5/10\n",
            "856/856 [==============================] - 0s 256us/sample - loss: 27.3452 - acc: 0.9930 - val_loss: 80.4220 - val_acc: 0.9674\n",
            "Epoch 6/10\n",
            "856/856 [==============================] - 0s 254us/sample - loss: 24.3028 - acc: 0.9871 - val_loss: 9.1834 - val_acc: 0.9953\n",
            "Epoch 7/10\n",
            "856/856 [==============================] - 0s 253us/sample - loss: 3.5006 - acc: 0.9953 - val_loss: 16.2898 - val_acc: 0.9953\n",
            "Epoch 8/10\n",
            "856/856 [==============================] - 0s 254us/sample - loss: 164.9991 - acc: 0.9895 - val_loss: 0.3711 - val_acc: 0.9953\n",
            "Epoch 9/10\n",
            "856/856 [==============================] - 0s 246us/sample - loss: 12.5567 - acc: 0.9965 - val_loss: 44.5249 - val_acc: 0.9814\n",
            "Epoch 10/10\n",
            "856/856 [==============================] - 0s 234us/sample - loss: 73.8889 - acc: 0.9977 - val_loss: 4.7712 - val_acc: 0.9953\n",
            "nonlinear_mxts_mode is set to: RevealCancel\n",
            "Heads-up: I assume softmax is the output layer, not an intermediate one; if it's an intermediate layer, please let me know and I will prioritise that use-case\n",
            "maximum difference in predictions: 0.0\n",
            "Compiling scoring function for: revealcancel_all_layers\n",
            "on method revealcancel_all_layers\n",
            "Number of Patients, TFs:\n",
            "1071 1483\n",
            "Train on 856 samples, validate on 215 samples\n",
            "Epoch 1/10\n",
            "856/856 [==============================] - 2s 2ms/sample - loss: 319.3847 - acc: 0.9299 - val_loss: 100.8562 - val_acc: 0.9814\n",
            "Epoch 2/10\n",
            "856/856 [==============================] - 0s 213us/sample - loss: 464.5418 - acc: 0.9696 - val_loss: 25.3893 - val_acc: 0.9721\n",
            "Epoch 3/10\n",
            "856/856 [==============================] - 0s 212us/sample - loss: 41.7626 - acc: 0.9848 - val_loss: 23.5639 - val_acc: 0.9814\n",
            "Epoch 4/10\n",
            "856/856 [==============================] - 0s 240us/sample - loss: 11.4370 - acc: 0.9907 - val_loss: 58.4321 - val_acc: 0.9721\n",
            "Epoch 5/10\n",
            "856/856 [==============================] - 0s 215us/sample - loss: 3.1799 - acc: 0.9977 - val_loss: 100.5108 - val_acc: 0.9674\n",
            "Epoch 6/10\n",
            "856/856 [==============================] - 0s 212us/sample - loss: 2.0191 - acc: 0.9965 - val_loss: 0.1682 - val_acc: 0.9953\n",
            "Epoch 7/10\n",
            "856/856 [==============================] - 0s 236us/sample - loss: 0.0000e+00 - acc: 1.0000 - val_loss: 18.8699 - val_acc: 0.9860\n",
            "Epoch 8/10\n",
            "856/856 [==============================] - 0s 247us/sample - loss: 0.0000e+00 - acc: 1.0000 - val_loss: 20.7264 - val_acc: 0.9860\n",
            "Epoch 9/10\n",
            "856/856 [==============================] - 0s 231us/sample - loss: 2.4092e-08 - acc: 1.0000 - val_loss: 20.8398 - val_acc: 0.9860\n",
            "Epoch 10/10\n",
            "856/856 [==============================] - 0s 211us/sample - loss: 6.4338e-08 - acc: 1.0000 - val_loss: 20.8391 - val_acc: 0.9860\n",
            "nonlinear_mxts_mode is set to: RevealCancel\n",
            "Heads-up: I assume softmax is the output layer, not an intermediate one; if it's an intermediate layer, please let me know and I will prioritise that use-case\n",
            "maximum difference in predictions: 0.0\n",
            "Compiling scoring function for: revealcancel_all_layers\n",
            "on method revealcancel_all_layers\n",
            "Number of Patients, TFs:\n",
            "1071 1483\n",
            "Train on 856 samples, validate on 215 samples\n",
            "Epoch 1/10\n",
            "856/856 [==============================] - 2s 2ms/sample - loss: 503.3856 - acc: 0.9369 - val_loss: 44.8427 - val_acc: 0.9860\n",
            "Epoch 2/10\n",
            "856/856 [==============================] - 0s 211us/sample - loss: 71.8863 - acc: 0.9918 - val_loss: 69.0125 - val_acc: 0.9814\n",
            "Epoch 3/10\n",
            "856/856 [==============================] - 0s 248us/sample - loss: 15.5745 - acc: 0.9965 - val_loss: 34.2722 - val_acc: 0.9814\n",
            "Epoch 4/10\n",
            "856/856 [==============================] - 0s 235us/sample - loss: 377.7155 - acc: 0.9790 - val_loss: 217.0665 - val_acc: 0.9488\n",
            "Epoch 5/10\n",
            "856/856 [==============================] - 0s 250us/sample - loss: 194.5882 - acc: 0.9790 - val_loss: 205.1751 - val_acc: 0.9581\n",
            "Epoch 6/10\n",
            "856/856 [==============================] - 0s 242us/sample - loss: 169.1694 - acc: 0.9907 - val_loss: 57.4759 - val_acc: 0.9814\n",
            "Epoch 7/10\n",
            "856/856 [==============================] - 0s 252us/sample - loss: 31.9737 - acc: 0.9918 - val_loss: 163.3895 - val_acc: 0.9628\n",
            "Epoch 8/10\n",
            "856/856 [==============================] - 0s 246us/sample - loss: 24.0032 - acc: 0.9930 - val_loss: 121.4481 - val_acc: 0.9767\n",
            "Epoch 9/10\n",
            "856/856 [==============================] - 0s 263us/sample - loss: 15.0130 - acc: 0.9965 - val_loss: 0.7733 - val_acc: 0.9953\n",
            "Epoch 10/10\n",
            "856/856 [==============================] - 0s 217us/sample - loss: 31.3424 - acc: 0.9895 - val_loss: 20.4360 - val_acc: 0.9907\n",
            "nonlinear_mxts_mode is set to: RevealCancel\n",
            "Heads-up: I assume softmax is the output layer, not an intermediate one; if it's an intermediate layer, please let me know and I will prioritise that use-case\n",
            "maximum difference in predictions: 0.0\n",
            "Compiling scoring function for: revealcancel_all_layers\n",
            "on method revealcancel_all_layers\n",
            "Number of Patients, TFs:\n",
            "1071 1483\n",
            "Train on 856 samples, validate on 215 samples\n",
            "Epoch 1/10\n",
            "856/856 [==============================] - 2s 2ms/sample - loss: 696.0562 - acc: 0.9030 - val_loss: 73.1399 - val_acc: 0.9674\n",
            "Epoch 2/10\n",
            "856/856 [==============================] - 0s 243us/sample - loss: 203.7757 - acc: 0.9696 - val_loss: 45.5399 - val_acc: 0.9721\n",
            "Epoch 3/10\n",
            "856/856 [==============================] - 0s 262us/sample - loss: 148.5954 - acc: 0.9696 - val_loss: 48.9579 - val_acc: 0.9860\n",
            "Epoch 4/10\n",
            "856/856 [==============================] - 0s 249us/sample - loss: 28.2588 - acc: 0.9883 - val_loss: 74.7958 - val_acc: 0.9674\n",
            "Epoch 5/10\n",
            "856/856 [==============================] - 0s 261us/sample - loss: 10.9083 - acc: 0.9953 - val_loss: 3.0834 - val_acc: 0.9953\n",
            "Epoch 6/10\n",
            "856/856 [==============================] - 0s 275us/sample - loss: 5.7280 - acc: 0.9942 - val_loss: 16.3826 - val_acc: 0.9907\n",
            "Epoch 7/10\n",
            "856/856 [==============================] - 0s 245us/sample - loss: 14.5441 - acc: 0.9942 - val_loss: 13.9414 - val_acc: 0.9907\n",
            "Epoch 8/10\n",
            "856/856 [==============================] - 0s 268us/sample - loss: 247.2782 - acc: 0.9778 - val_loss: 1.4613 - val_acc: 0.9907\n",
            "Epoch 9/10\n",
            "856/856 [==============================] - 0s 243us/sample - loss: 26.5355 - acc: 0.9930 - val_loss: 49.2165 - val_acc: 0.9767\n",
            "Epoch 10/10\n",
            "856/856 [==============================] - 0s 268us/sample - loss: 21.1839 - acc: 0.9953 - val_loss: 53.3781 - val_acc: 0.9907\n",
            "nonlinear_mxts_mode is set to: RevealCancel\n",
            "Heads-up: I assume softmax is the output layer, not an intermediate one; if it's an intermediate layer, please let me know and I will prioritise that use-case\n",
            "maximum difference in predictions: 0.0\n",
            "Compiling scoring function for: revealcancel_all_layers\n",
            "on method revealcancel_all_layers\n",
            "Number of Patients, TFs:\n",
            "1071 1483\n",
            "Train on 856 samples, validate on 215 samples\n",
            "Epoch 1/10\n",
            "856/856 [==============================] - 2s 3ms/sample - loss: 517.9160 - acc: 0.8995 - val_loss: 531.5760 - val_acc: 0.9116\n",
            "Epoch 2/10\n",
            "856/856 [==============================] - 0s 260us/sample - loss: 169.9325 - acc: 0.9720 - val_loss: 25.7500 - val_acc: 0.9767\n",
            "Epoch 3/10\n",
            "856/856 [==============================] - 0s 266us/sample - loss: 73.4622 - acc: 0.9930 - val_loss: 41.4504 - val_acc: 0.9907\n",
            "Epoch 4/10\n",
            "856/856 [==============================] - 0s 218us/sample - loss: 211.7750 - acc: 0.9790 - val_loss: 9.3592 - val_acc: 0.9907\n",
            "Epoch 5/10\n",
            "856/856 [==============================] - 0s 260us/sample - loss: 115.4493 - acc: 0.9930 - val_loss: 76.1627 - val_acc: 0.9767\n",
            "Epoch 6/10\n",
            "856/856 [==============================] - 0s 240us/sample - loss: 153.2130 - acc: 0.9836 - val_loss: 0.0000e+00 - val_acc: 1.0000\n",
            "Epoch 7/10\n",
            "856/856 [==============================] - 0s 269us/sample - loss: 8.4810 - acc: 0.9953 - val_loss: 110.1275 - val_acc: 0.9674\n",
            "Epoch 8/10\n",
            "856/856 [==============================] - 0s 277us/sample - loss: 4.8522 - acc: 0.9953 - val_loss: 19.7443 - val_acc: 0.9907\n",
            "Epoch 9/10\n",
            "856/856 [==============================] - 0s 260us/sample - loss: 41.8242 - acc: 0.9930 - val_loss: 100.0570 - val_acc: 0.9721\n",
            "Epoch 10/10\n",
            "856/856 [==============================] - 0s 241us/sample - loss: 127.9127 - acc: 0.9930 - val_loss: 189.7003 - val_acc: 0.9674\n",
            "nonlinear_mxts_mode is set to: RevealCancel\n",
            "Heads-up: I assume softmax is the output layer, not an intermediate one; if it's an intermediate layer, please let me know and I will prioritise that use-case\n",
            "maximum difference in predictions: 0.0\n",
            "Compiling scoring function for: revealcancel_all_layers\n",
            "on method revealcancel_all_layers\n",
            "Number of Patients, TFs:\n",
            "1071 1483\n",
            "Train on 856 samples, validate on 215 samples\n",
            "Epoch 1/10\n",
            "856/856 [==============================] - 2s 3ms/sample - loss: 648.3641 - acc: 0.9474 - val_loss: 94.3472 - val_acc: 0.9721\n",
            "Epoch 2/10\n",
            "856/856 [==============================] - 0s 266us/sample - loss: 103.5301 - acc: 0.9801 - val_loss: 39.3186 - val_acc: 0.9860\n",
            "Epoch 3/10\n",
            "856/856 [==============================] - 0s 265us/sample - loss: 31.3583 - acc: 0.9895 - val_loss: 66.3478 - val_acc: 0.9860\n",
            "Epoch 4/10\n",
            "856/856 [==============================] - 0s 253us/sample - loss: 44.5687 - acc: 0.9883 - val_loss: 198.6400 - val_acc: 0.9581\n",
            "Epoch 5/10\n",
            "856/856 [==============================] - 0s 260us/sample - loss: 55.5010 - acc: 0.9860 - val_loss: 126.5431 - val_acc: 0.9674\n",
            "Epoch 6/10\n",
            "856/856 [==============================] - 0s 248us/sample - loss: 11.3051 - acc: 0.9953 - val_loss: 23.3334 - val_acc: 0.9907\n",
            "Epoch 7/10\n",
            "856/856 [==============================] - 0s 273us/sample - loss: 0.7826 - acc: 0.9988 - val_loss: 9.8756 - val_acc: 0.9953\n",
            "Epoch 8/10\n",
            "856/856 [==============================] - 0s 263us/sample - loss: 45.7862 - acc: 0.9883 - val_loss: 242.7514 - val_acc: 0.9535\n",
            "Epoch 9/10\n",
            "856/856 [==============================] - 0s 250us/sample - loss: 336.4728 - acc: 0.9743 - val_loss: 335.7695 - val_acc: 0.9442\n",
            "Epoch 10/10\n",
            "856/856 [==============================] - 0s 257us/sample - loss: 81.7232 - acc: 0.9930 - val_loss: 198.6685 - val_acc: 0.9674\n",
            "nonlinear_mxts_mode is set to: RevealCancel\n",
            "Heads-up: I assume softmax is the output layer, not an intermediate one; if it's an intermediate layer, please let me know and I will prioritise that use-case\n",
            "maximum difference in predictions: 0.0\n",
            "Compiling scoring function for: revealcancel_all_layers\n",
            "on method revealcancel_all_layers\n",
            "Number of Patients, TFs:\n",
            "1071 1483\n",
            "Train on 856 samples, validate on 215 samples\n",
            "Epoch 1/10\n",
            "856/856 [==============================] - 2s 3ms/sample - loss: 593.0711 - acc: 0.9065 - val_loss: 31.8563 - val_acc: 0.9860\n",
            "Epoch 2/10\n",
            "856/856 [==============================] - 0s 260us/sample - loss: 57.0829 - acc: 0.9883 - val_loss: 248.6022 - val_acc: 0.9535\n",
            "Epoch 3/10\n",
            "856/856 [==============================] - 0s 266us/sample - loss: 249.6120 - acc: 0.9661 - val_loss: 12.2696 - val_acc: 0.9907\n",
            "Epoch 4/10\n",
            "856/856 [==============================] - 0s 260us/sample - loss: 196.6619 - acc: 0.9871 - val_loss: 43.8466 - val_acc: 0.9860\n",
            "Epoch 5/10\n",
            "856/856 [==============================] - 0s 275us/sample - loss: 99.7949 - acc: 0.9895 - val_loss: 21.7686 - val_acc: 0.9907\n",
            "Epoch 6/10\n",
            "856/856 [==============================] - 0s 297us/sample - loss: 22.8299 - acc: 0.9953 - val_loss: 0.8670 - val_acc: 0.9953\n",
            "Epoch 7/10\n",
            "856/856 [==============================] - 0s 277us/sample - loss: 4.5449 - acc: 0.9988 - val_loss: 0.0000e+00 - val_acc: 1.0000\n",
            "Epoch 8/10\n",
            "856/856 [==============================] - 0s 277us/sample - loss: 5.7549 - acc: 0.9953 - val_loss: 26.6387 - val_acc: 0.9907\n",
            "Epoch 9/10\n",
            "856/856 [==============================] - 0s 272us/sample - loss: 6.2169 - acc: 0.9977 - val_loss: 0.0000e+00 - val_acc: 1.0000\n",
            "Epoch 10/10\n",
            "856/856 [==============================] - 0s 265us/sample - loss: 14.5335 - acc: 0.9907 - val_loss: 1.0664 - val_acc: 0.9953\n",
            "nonlinear_mxts_mode is set to: RevealCancel\n",
            "Heads-up: I assume softmax is the output layer, not an intermediate one; if it's an intermediate layer, please let me know and I will prioritise that use-case\n",
            "maximum difference in predictions: 0.0\n",
            "Compiling scoring function for: revealcancel_all_layers\n",
            "on method revealcancel_all_layers\n",
            "Completed aggregate scores\n",
            "Dropping column HMX2\n",
            "Dropping column POU3F2\n",
            "Dropping column RAX\n",
            "Dropping column SP8\n",
            "Dropping column VAX1\n",
            "Dropping column ZIC3\n",
            "Number of Patients, TFs:\n",
            "759 1480\n",
            "Train on 607 samples, validate on 152 samples\n",
            "Epoch 1/10\n",
            "607/607 [==============================] - 2s 4ms/sample - loss: 377.8122 - acc: 0.7908 - val_loss: 5.8171 - val_acc: 0.9803\n",
            "Epoch 2/10\n",
            "607/607 [==============================] - 0s 256us/sample - loss: 34.5780 - acc: 0.9621 - val_loss: 23.6532 - val_acc: 0.9671\n",
            "Epoch 3/10\n",
            "607/607 [==============================] - 0s 259us/sample - loss: 32.2045 - acc: 0.9605 - val_loss: 24.3372 - val_acc: 0.9605\n",
            "Epoch 4/10\n",
            "607/607 [==============================] - 0s 282us/sample - loss: 32.2155 - acc: 0.9671 - val_loss: 0.0000e+00 - val_acc: 1.0000\n",
            "Epoch 5/10\n",
            "607/607 [==============================] - 0s 259us/sample - loss: 16.4285 - acc: 0.9852 - val_loss: 9.2586 - val_acc: 0.9803\n",
            "Epoch 6/10\n",
            "607/607 [==============================] - 0s 275us/sample - loss: 35.2833 - acc: 0.9489 - val_loss: 8.7223 - val_acc: 0.9868\n",
            "Epoch 7/10\n",
            "607/607 [==============================] - 0s 266us/sample - loss: 103.0789 - acc: 0.9176 - val_loss: 42.9730 - val_acc: 0.9671\n",
            "Epoch 8/10\n",
            "607/607 [==============================] - 0s 268us/sample - loss: 75.7138 - acc: 0.9390 - val_loss: 7.1047 - val_acc: 0.9934\n",
            "Epoch 9/10\n",
            "607/607 [==============================] - 0s 257us/sample - loss: 24.2437 - acc: 0.9868 - val_loss: 10.9171 - val_acc: 0.9934\n",
            "Epoch 10/10\n",
            "607/607 [==============================] - 0s 267us/sample - loss: 7.3258 - acc: 0.9918 - val_loss: 7.0069 - val_acc: 0.9934\n",
            "nonlinear_mxts_mode is set to: RevealCancel\n",
            "Heads-up: I assume softmax is the output layer, not an intermediate one; if it's an intermediate layer, please let me know and I will prioritise that use-case\n",
            "maximum difference in predictions: 0.0\n",
            "Compiling scoring function for: revealcancel_all_layers\n",
            "on method revealcancel_all_layers\n",
            "Number of Patients, TFs:\n",
            "759 1480\n",
            "Train on 607 samples, validate on 152 samples\n",
            "Epoch 1/10\n",
            "607/607 [==============================] - 2s 4ms/sample - loss: 696.5438 - acc: 0.7710 - val_loss: 14.6856 - val_acc: 0.9737\n",
            "Epoch 2/10\n",
            "607/607 [==============================] - 0s 262us/sample - loss: 56.9200 - acc: 0.9605 - val_loss: 9.0585 - val_acc: 0.9803\n",
            "Epoch 3/10\n",
            "607/607 [==============================] - 0s 256us/sample - loss: 27.7892 - acc: 0.9638 - val_loss: 8.9304 - val_acc: 0.9868\n",
            "Epoch 4/10\n",
            "607/607 [==============================] - 0s 255us/sample - loss: 11.2137 - acc: 0.9753 - val_loss: 0.0414 - val_acc: 0.9934\n",
            "Epoch 5/10\n",
            "607/607 [==============================] - 0s 318us/sample - loss: 20.6200 - acc: 0.9720 - val_loss: 8.4944 - val_acc: 0.9934\n",
            "Epoch 6/10\n",
            "607/607 [==============================] - 0s 264us/sample - loss: 13.5195 - acc: 0.9819 - val_loss: 5.5450 - val_acc: 0.9934\n",
            "Epoch 7/10\n",
            "607/607 [==============================] - 0s 261us/sample - loss: 46.9128 - acc: 0.9703 - val_loss: 0.0000e+00 - val_acc: 1.0000\n",
            "Epoch 8/10\n",
            "607/607 [==============================] - 0s 255us/sample - loss: 12.3624 - acc: 0.9786 - val_loss: 23.9944 - val_acc: 0.9539\n",
            "Epoch 9/10\n",
            "607/607 [==============================] - 0s 271us/sample - loss: 0.9457 - acc: 0.9951 - val_loss: 0.7923 - val_acc: 0.9934\n",
            "Epoch 10/10\n",
            "607/607 [==============================] - 0s 252us/sample - loss: 6.4390 - acc: 0.9934 - val_loss: 2.9754 - val_acc: 0.9934\n",
            "nonlinear_mxts_mode is set to: RevealCancel\n",
            "Heads-up: I assume softmax is the output layer, not an intermediate one; if it's an intermediate layer, please let me know and I will prioritise that use-case\n",
            "maximum difference in predictions: 0.0\n",
            "Compiling scoring function for: revealcancel_all_layers\n",
            "on method revealcancel_all_layers\n",
            "Number of Patients, TFs:\n",
            "759 1480\n",
            "Train on 607 samples, validate on 152 samples\n",
            "Epoch 1/10\n",
            "607/607 [==============================] - 3s 4ms/sample - loss: 526.7875 - acc: 0.7891 - val_loss: 19.9825 - val_acc: 0.9737\n",
            "Epoch 2/10\n",
            "607/607 [==============================] - 0s 272us/sample - loss: 44.1597 - acc: 0.9473 - val_loss: 0.0000e+00 - val_acc: 1.0000\n",
            "Epoch 3/10\n",
            "607/607 [==============================] - 0s 288us/sample - loss: 7.1132 - acc: 0.9885 - val_loss: 0.0000e+00 - val_acc: 1.0000\n",
            "Epoch 4/10\n",
            "607/607 [==============================] - 0s 309us/sample - loss: 9.9253 - acc: 0.9852 - val_loss: 5.3946 - val_acc: 0.9868\n",
            "Epoch 5/10\n",
            "607/607 [==============================] - 0s 333us/sample - loss: 11.9055 - acc: 0.9753 - val_loss: 2.5442 - val_acc: 0.9934\n",
            "Epoch 6/10\n",
            "607/607 [==============================] - 0s 289us/sample - loss: 12.2243 - acc: 0.9868 - val_loss: 1.7318 - val_acc: 0.9868\n",
            "Epoch 7/10\n",
            "607/607 [==============================] - 0s 273us/sample - loss: 7.2193 - acc: 0.9868 - val_loss: 13.1249 - val_acc: 0.9803\n",
            "Epoch 8/10\n",
            "607/607 [==============================] - 0s 299us/sample - loss: 13.2979 - acc: 0.9835 - val_loss: 26.7884 - val_acc: 0.9539\n",
            "Epoch 9/10\n",
            "607/607 [==============================] - 0s 308us/sample - loss: 11.1946 - acc: 0.9852 - val_loss: 9.5740 - val_acc: 0.9868\n",
            "Epoch 10/10\n",
            "607/607 [==============================] - 0s 284us/sample - loss: 14.1025 - acc: 0.9786 - val_loss: 32.8781 - val_acc: 0.9737\n",
            "nonlinear_mxts_mode is set to: RevealCancel\n",
            "Heads-up: I assume softmax is the output layer, not an intermediate one; if it's an intermediate layer, please let me know and I will prioritise that use-case\n",
            "maximum difference in predictions: 0.0\n",
            "Compiling scoring function for: revealcancel_all_layers\n",
            "on method revealcancel_all_layers\n",
            "Number of Patients, TFs:\n",
            "759 1480\n",
            "Train on 607 samples, validate on 152 samples\n",
            "Epoch 1/10\n",
            "607/607 [==============================] - 3s 4ms/sample - loss: 634.8084 - acc: 0.7562 - val_loss: 25.5919 - val_acc: 0.9539\n",
            "Epoch 2/10\n",
            "607/607 [==============================] - 0s 293us/sample - loss: 87.0434 - acc: 0.9407 - val_loss: 20.0312 - val_acc: 0.9605\n",
            "Epoch 3/10\n",
            "607/607 [==============================] - 0s 295us/sample - loss: 45.7732 - acc: 0.9423 - val_loss: 2.5386 - val_acc: 0.9868\n",
            "Epoch 4/10\n",
            "607/607 [==============================] - 0s 307us/sample - loss: 16.0178 - acc: 0.9786 - val_loss: 0.0000e+00 - val_acc: 1.0000\n",
            "Epoch 5/10\n",
            "607/607 [==============================] - 0s 292us/sample - loss: 10.7259 - acc: 0.9769 - val_loss: 0.0000e+00 - val_acc: 1.0000\n",
            "Epoch 6/10\n",
            "607/607 [==============================] - 0s 306us/sample - loss: 6.9563 - acc: 0.9885 - val_loss: 1.0700 - val_acc: 0.9934\n",
            "Epoch 7/10\n",
            "607/607 [==============================] - 0s 306us/sample - loss: 4.4153 - acc: 0.9901 - val_loss: 1.6971 - val_acc: 0.9934\n",
            "Epoch 8/10\n",
            "607/607 [==============================] - 0s 298us/sample - loss: 4.8954 - acc: 0.9918 - val_loss: 5.0713 - val_acc: 0.9868\n",
            "Epoch 9/10\n",
            "607/607 [==============================] - 0s 308us/sample - loss: 0.3873 - acc: 0.9984 - val_loss: 6.4618 - val_acc: 0.9868\n",
            "Epoch 10/10\n",
            "607/607 [==============================] - 0s 340us/sample - loss: 1.2974 - acc: 0.9918 - val_loss: 1.2610 - val_acc: 0.9934\n",
            "nonlinear_mxts_mode is set to: RevealCancel\n",
            "Heads-up: I assume softmax is the output layer, not an intermediate one; if it's an intermediate layer, please let me know and I will prioritise that use-case\n",
            "maximum difference in predictions: 0.0\n",
            "Compiling scoring function for: revealcancel_all_layers\n",
            "on method revealcancel_all_layers\n",
            "Number of Patients, TFs:\n",
            "759 1480\n",
            "Train on 607 samples, validate on 152 samples\n",
            "Epoch 1/10\n",
            "607/607 [==============================] - 3s 4ms/sample - loss: 248.8406 - acc: 0.8649 - val_loss: 142.3715 - val_acc: 0.8947\n",
            "Epoch 2/10\n",
            "607/607 [==============================] - 0s 289us/sample - loss: 134.7662 - acc: 0.9061 - val_loss: 33.0829 - val_acc: 0.9539\n",
            "Epoch 3/10\n",
            "607/607 [==============================] - 0s 301us/sample - loss: 16.3159 - acc: 0.9819 - val_loss: 10.2319 - val_acc: 0.9803\n",
            "Epoch 4/10\n",
            "607/607 [==============================] - 0s 290us/sample - loss: 21.4304 - acc: 0.9769 - val_loss: 16.0261 - val_acc: 0.9803\n",
            "Epoch 5/10\n",
            "607/607 [==============================] - 0s 332us/sample - loss: 49.0006 - acc: 0.9539 - val_loss: 3.8203 - val_acc: 0.9934\n",
            "Epoch 6/10\n",
            "607/607 [==============================] - 0s 300us/sample - loss: 67.4197 - acc: 0.9555 - val_loss: 26.5160 - val_acc: 0.9474\n",
            "Epoch 7/10\n",
            "607/607 [==============================] - 0s 301us/sample - loss: 62.0643 - acc: 0.9654 - val_loss: 8.4317 - val_acc: 0.9934\n",
            "Epoch 8/10\n",
            "607/607 [==============================] - 0s 332us/sample - loss: 22.8230 - acc: 0.9885 - val_loss: 0.0000e+00 - val_acc: 1.0000\n",
            "Epoch 9/10\n",
            "607/607 [==============================] - 0s 324us/sample - loss: 4.5661 - acc: 0.9918 - val_loss: 9.4063 - val_acc: 0.9671\n",
            "Epoch 10/10\n",
            "607/607 [==============================] - 0s 312us/sample - loss: 5.7898 - acc: 0.9885 - val_loss: 30.6838 - val_acc: 0.9868\n",
            "nonlinear_mxts_mode is set to: RevealCancel\n",
            "Heads-up: I assume softmax is the output layer, not an intermediate one; if it's an intermediate layer, please let me know and I will prioritise that use-case\n",
            "maximum difference in predictions: 0.0\n",
            "Compiling scoring function for: revealcancel_all_layers\n",
            "on method revealcancel_all_layers\n",
            "Number of Patients, TFs:\n",
            "759 1480\n",
            "Train on 607 samples, validate on 152 samples\n",
            "Epoch 1/10\n",
            "607/607 [==============================] - 3s 5ms/sample - loss: 260.1265 - acc: 0.8682 - val_loss: 5.1843 - val_acc: 0.9868\n",
            "Epoch 2/10\n",
            "607/607 [==============================] - 0s 284us/sample - loss: 122.2691 - acc: 0.9044 - val_loss: 59.5289 - val_acc: 0.8947\n",
            "Epoch 3/10\n",
            "607/607 [==============================] - 0s 301us/sample - loss: 22.0430 - acc: 0.9654 - val_loss: 0.0000e+00 - val_acc: 1.0000\n",
            "Epoch 4/10\n",
            "607/607 [==============================] - 0s 296us/sample - loss: 6.4967 - acc: 0.9901 - val_loss: 6.7864 - val_acc: 0.9737\n",
            "Epoch 5/10\n",
            "607/607 [==============================] - 0s 314us/sample - loss: 16.5849 - acc: 0.9736 - val_loss: 34.7411 - val_acc: 0.9671\n",
            "Epoch 6/10\n",
            "607/607 [==============================] - 0s 353us/sample - loss: 28.4086 - acc: 0.9687 - val_loss: 1.6254 - val_acc: 0.9934\n",
            "Epoch 7/10\n",
            "607/607 [==============================] - 0s 295us/sample - loss: 11.6176 - acc: 0.9901 - val_loss: 2.3169 - val_acc: 0.9934\n",
            "Epoch 8/10\n",
            "607/607 [==============================] - 0s 292us/sample - loss: 3.1706 - acc: 0.9967 - val_loss: 16.6768 - val_acc: 0.9868\n",
            "Epoch 9/10\n",
            "607/607 [==============================] - 0s 275us/sample - loss: 21.6716 - acc: 0.9786 - val_loss: 21.1427 - val_acc: 0.9605\n",
            "Epoch 10/10\n",
            "607/607 [==============================] - 0s 284us/sample - loss: 90.8483 - acc: 0.9407 - val_loss: 106.6832 - val_acc: 0.9276\n",
            "nonlinear_mxts_mode is set to: RevealCancel\n",
            "Heads-up: I assume softmax is the output layer, not an intermediate one; if it's an intermediate layer, please let me know and I will prioritise that use-case\n",
            "maximum difference in predictions: 0.0\n",
            "Compiling scoring function for: revealcancel_all_layers\n",
            "on method revealcancel_all_layers\n",
            "Number of Patients, TFs:\n",
            "759 1480\n",
            "Train on 607 samples, validate on 152 samples\n",
            "Epoch 1/10\n",
            "607/607 [==============================] - 3s 5ms/sample - loss: 375.4725 - acc: 0.8089 - val_loss: 17.9238 - val_acc: 0.9671\n",
            "Epoch 2/10\n",
            "607/607 [==============================] - 0s 282us/sample - loss: 178.6313 - acc: 0.9193 - val_loss: 8.2505 - val_acc: 0.9737\n",
            "Epoch 3/10\n",
            "607/607 [==============================] - 0s 307us/sample - loss: 70.7877 - acc: 0.9407 - val_loss: 62.4753 - val_acc: 0.9408\n",
            "Epoch 4/10\n",
            "607/607 [==============================] - 0s 348us/sample - loss: 51.5004 - acc: 0.9720 - val_loss: 1.6516 - val_acc: 0.9934\n",
            "Epoch 5/10\n",
            "607/607 [==============================] - 0s 328us/sample - loss: 26.6384 - acc: 0.9802 - val_loss: 0.0000e+00 - val_acc: 1.0000\n",
            "Epoch 6/10\n",
            "607/607 [==============================] - 0s 297us/sample - loss: 6.0128 - acc: 0.9934 - val_loss: 2.5085 - val_acc: 0.9934\n",
            "Epoch 7/10\n",
            "607/607 [==============================] - 0s 298us/sample - loss: 8.2064 - acc: 0.9885 - val_loss: 4.8349 - val_acc: 0.9934\n",
            "Epoch 8/10\n",
            "607/607 [==============================] - 0s 311us/sample - loss: 6.1201 - acc: 0.9951 - val_loss: 10.2896 - val_acc: 0.9868\n",
            "Epoch 9/10\n",
            "607/607 [==============================] - 0s 327us/sample - loss: 4.6571 - acc: 0.9967 - val_loss: 18.2020 - val_acc: 0.9868\n",
            "Epoch 10/10\n",
            "607/607 [==============================] - 0s 365us/sample - loss: 16.0570 - acc: 0.9819 - val_loss: 5.5971 - val_acc: 0.9868\n",
            "nonlinear_mxts_mode is set to: RevealCancel\n",
            "Heads-up: I assume softmax is the output layer, not an intermediate one; if it's an intermediate layer, please let me know and I will prioritise that use-case\n",
            "maximum difference in predictions: 0.0\n",
            "Compiling scoring function for: revealcancel_all_layers\n",
            "on method revealcancel_all_layers\n",
            "Number of Patients, TFs:\n",
            "759 1480\n",
            "Train on 607 samples, validate on 152 samples\n",
            "Epoch 1/10\n",
            "607/607 [==============================] - 3s 5ms/sample - loss: 458.6540 - acc: 0.8287 - val_loss: 38.6788 - val_acc: 0.9605\n",
            "Epoch 2/10\n",
            "607/607 [==============================] - 0s 267us/sample - loss: 94.3657 - acc: 0.9242 - val_loss: 0.0000e+00 - val_acc: 1.0000\n",
            "Epoch 3/10\n",
            "607/607 [==============================] - 0s 293us/sample - loss: 25.0185 - acc: 0.9703 - val_loss: 0.0000e+00 - val_acc: 1.0000\n",
            "Epoch 4/10\n",
            "607/607 [==============================] - 0s 286us/sample - loss: 39.6880 - acc: 0.9605 - val_loss: 8.7718 - val_acc: 0.9868\n",
            "Epoch 5/10\n",
            "607/607 [==============================] - 0s 313us/sample - loss: 12.7318 - acc: 0.9835 - val_loss: 0.2195 - val_acc: 0.9934\n",
            "Epoch 6/10\n",
            "607/607 [==============================] - 0s 347us/sample - loss: 7.9836 - acc: 0.9918 - val_loss: 0.0000e+00 - val_acc: 1.0000\n",
            "Epoch 7/10\n",
            "607/607 [==============================] - 0s 311us/sample - loss: 18.4565 - acc: 0.9720 - val_loss: 3.8755 - val_acc: 0.9934\n",
            "Epoch 8/10\n",
            "607/607 [==============================] - 0s 352us/sample - loss: 44.6911 - acc: 0.9572 - val_loss: 5.3072 - val_acc: 0.9737\n",
            "Epoch 9/10\n",
            "607/607 [==============================] - 0s 282us/sample - loss: 24.3426 - acc: 0.9703 - val_loss: 0.0000e+00 - val_acc: 1.0000\n",
            "Epoch 10/10\n",
            "607/607 [==============================] - 0s 283us/sample - loss: 7.9699 - acc: 0.9868 - val_loss: 10.9423 - val_acc: 0.9868\n",
            "nonlinear_mxts_mode is set to: RevealCancel\n",
            "Heads-up: I assume softmax is the output layer, not an intermediate one; if it's an intermediate layer, please let me know and I will prioritise that use-case\n",
            "maximum difference in predictions: 0.0\n",
            "Compiling scoring function for: revealcancel_all_layers\n",
            "on method revealcancel_all_layers\n"
          ]
        }
      ]
    },
    {
      "cell_type": "code",
      "metadata": {
        "id": "qkeMJyjW6mXX"
      },
      "source": [
        "n = 10"
      ],
      "execution_count": null,
      "outputs": []
    },
    {
      "cell_type": "code",
      "metadata": {
        "id": "Mo_FL8Lh6nxa"
      },
      "source": [
        "print_scores(lung_nscore,lung_cscore,lung_ncscore,Lung_normal_df_t, Lung_cancer_df_t,Lung_cancer_df_t, n,\"Lung\")"
      ],
      "execution_count": null,
      "outputs": []
    },
    {
      "cell_type": "code",
      "metadata": {
        "id": "qLn7Ik8EN17y"
      },
      "source": [
        "print_scores(colon_nscore,colon_cscore,colon_ncscore,Colon_normal_df_t, Colon_cancer_df_t,Colon_cancer_df_t, n,\"Colon\")"
      ],
      "execution_count": null,
      "outputs": []
    },
    {
      "cell_type": "code",
      "metadata": {
        "id": "aZgnFhWON_ly"
      },
      "source": [
        "print_scores(breast_nscore,breast_cscore,breast_ncscore,Breast_normal_df_t, Breast_cancer_df_t,Breast_cancer_df_t, n,\"Breast\")"
      ],
      "execution_count": null,
      "outputs": []
    },
    {
      "cell_type": "code",
      "metadata": {
        "id": "yDqQxLblOJ61"
      },
      "source": [
        "print_scores(thyroid_nscore,thyroid_cscore,thyroid_ncscore,Thyroid_normal_df_t, Thyroid_cancer_df_t, Thyroid_cancer_df_t, n,\"Thyroid\")"
      ],
      "execution_count": null,
      "outputs": []
    },
    {
      "cell_type": "code",
      "metadata": {
        "id": "pUEQr-OcOSKu"
      },
      "source": [
        "print_scores(stomach_nscore,stomach_cscore,stomach_ncscore,Stomach_normal_df_t,Stomach_cancer_df_t, Stomach_cancer_df_t, n,\"Stomach\")"
      ],
      "execution_count": null,
      "outputs": []
    },
    {
      "cell_type": "code",
      "metadata": {
        "id": "qB6xer4HOap8"
      },
      "source": [
        "print_scores(prostate_nscore,prostate_cscore,prostate_ncscore,Prostate_normal_df_t,Prostate_cancer_df_t, Prostate_cancer_df_t, n,\"Prostate\")"
      ],
      "execution_count": null,
      "outputs": []
    },
    {
      "cell_type": "code",
      "metadata": {
        "id": "qinSnrDoOid_"
      },
      "source": [
        "print_scores(esophagus_nscore,esophagus_cscore,esophagus_ncscore,Esophagus_normal_df_t,Esophagus_cancer_df_t,Esophagus_cancer_df_t, n,\"Esophagus\")"
      ],
      "execution_count": null,
      "outputs": []
    },
    {
      "cell_type": "code",
      "metadata": {
        "id": "Zao5J-7sOv0H"
      },
      "source": [
        "print_scores(liver_nscore,liver_cscore,liver_ncscore,Liver_normal_df_t,Liver_cancer_df_t,Liver_cancer_df_t, n,\"Liver\")"
      ],
      "execution_count": null,
      "outputs": []
    },
    {
      "cell_type": "code",
      "metadata": {
        "id": "XWMxnHU__RdK"
      },
      "source": [
        "plot_scores(lung_nscore, \"Lung normal\")"
      ],
      "execution_count": null,
      "outputs": []
    },
    {
      "cell_type": "code",
      "metadata": {
        "id": "c_0hkbfM_Yhj"
      },
      "source": [
        "plot_scores(lung_cscore, \"Lung cancer\")"
      ],
      "execution_count": null,
      "outputs": []
    },
    {
      "cell_type": "code",
      "metadata": {
        "id": "XbHug_Ei_dZ5"
      },
      "source": [
        "plot_scores(lung_ncscore, \"Lung cancer (all normal reference)\")"
      ],
      "execution_count": null,
      "outputs": []
    },
    {
      "cell_type": "code",
      "metadata": {
        "id": "gJT4wdpoUqs8"
      },
      "source": [
        "plot_scores(colon_nscore, \"Colon normal\")"
      ],
      "execution_count": null,
      "outputs": []
    },
    {
      "cell_type": "code",
      "metadata": {
        "id": "LVAekpWvUjcb"
      },
      "source": [
        "plot_scores(colon_cscore, \"Colon cancer\")"
      ],
      "execution_count": null,
      "outputs": []
    },
    {
      "cell_type": "code",
      "metadata": {
        "id": "3syRhHjyUouj"
      },
      "source": [
        "plot_scores(colon_ncscore, \"Colon cancer (all normal reference)\")"
      ],
      "execution_count": null,
      "outputs": []
    },
    {
      "cell_type": "code",
      "metadata": {
        "id": "BPZNt6EkUwEY"
      },
      "source": [
        "plot_scores(breast_nscore,\"Breast normal\")"
      ],
      "execution_count": null,
      "outputs": []
    },
    {
      "cell_type": "code",
      "metadata": {
        "id": "PD51rvigU06n"
      },
      "source": [
        "plot_scores(breast_cscore,\"Breast cancer\")"
      ],
      "execution_count": null,
      "outputs": []
    },
    {
      "cell_type": "code",
      "metadata": {
        "id": "0s0l9WWXU2_g"
      },
      "source": [
        "plot_scores(breast_nscore,\"Breast cancer (all normal reference)\")"
      ],
      "execution_count": null,
      "outputs": []
    },
    {
      "cell_type": "code",
      "metadata": {
        "id": "niK09IpCU6OI"
      },
      "source": [
        "plot_scores(thyroid_nscore,\"Thyroid normal\")"
      ],
      "execution_count": null,
      "outputs": []
    },
    {
      "cell_type": "code",
      "metadata": {
        "id": "z498fkx9U9F8"
      },
      "source": [
        "plot_scores(thyroid_cscore,\"Thyroid cancer\")"
      ],
      "execution_count": null,
      "outputs": []
    },
    {
      "cell_type": "code",
      "metadata": {
        "id": "-kO55Xz0U_pA"
      },
      "source": [
        "plot_scores(thyroid_ncscore,\"Thyroid cancer (all normal reference)\")"
      ],
      "execution_count": null,
      "outputs": []
    },
    {
      "cell_type": "code",
      "metadata": {
        "id": "3iAEMKx7VCR_"
      },
      "source": [
        "plot_scores(stomach_nscore,\"Stomach normal\")"
      ],
      "execution_count": null,
      "outputs": []
    },
    {
      "cell_type": "code",
      "metadata": {
        "id": "hfw9ANrLVEod"
      },
      "source": [
        "plot_scores(stomach_cscore,\"Stomach cancer\")"
      ],
      "execution_count": null,
      "outputs": []
    },
    {
      "cell_type": "code",
      "metadata": {
        "id": "GTlmXFLhVG4b"
      },
      "source": [
        "plot_scores(stomach_ncscore,\"Stomach cancer (all normal reference)\")"
      ],
      "execution_count": null,
      "outputs": []
    },
    {
      "cell_type": "code",
      "metadata": {
        "id": "DomEbbwcVJIK"
      },
      "source": [
        "plot_scores(prostate_nscore,\"Prostate normal\")"
      ],
      "execution_count": null,
      "outputs": []
    },
    {
      "cell_type": "code",
      "metadata": {
        "id": "tEg3Nsu3VLVo"
      },
      "source": [
        "plot_scores(prostate_cscore,\"Prostate cancer\")"
      ],
      "execution_count": null,
      "outputs": []
    },
    {
      "cell_type": "code",
      "metadata": {
        "id": "qrtHlWvzVNpJ"
      },
      "source": [
        "plot_scores(prostate_ncscore,\"Prostate cancer (all normal reference)\")"
      ],
      "execution_count": null,
      "outputs": []
    },
    {
      "cell_type": "code",
      "metadata": {
        "id": "Ppf1Hy2zVREO"
      },
      "source": [
        "plot_scores(esophagus_nscore,\"Esophagus normal\")"
      ],
      "execution_count": null,
      "outputs": []
    },
    {
      "cell_type": "code",
      "metadata": {
        "id": "TAhP2S-8VTgL"
      },
      "source": [
        "plot_scores(esophagus_cscore,\"Esophagus cancer\")"
      ],
      "execution_count": null,
      "outputs": []
    },
    {
      "cell_type": "code",
      "metadata": {
        "id": "RLsQAr-HVVPA"
      },
      "source": [
        "plot_scores(esophagus_ncscore,\"Esophagus cancer (all normal reference)\")"
      ],
      "execution_count": null,
      "outputs": []
    },
    {
      "cell_type": "code",
      "metadata": {
        "id": "JkmVPYoPVXRy"
      },
      "source": [
        "plot_scores(liver_nscore,\"Liver normal\")"
      ],
      "execution_count": null,
      "outputs": []
    },
    {
      "cell_type": "code",
      "metadata": {
        "id": "crGvIqLoVZbt"
      },
      "source": [
        "plot_scores(liver_cscore,\"Liver cancer\")"
      ],
      "execution_count": null,
      "outputs": []
    },
    {
      "cell_type": "code",
      "metadata": {
        "id": "QMY-ECnXVbt1"
      },
      "source": [
        "plot_scores(liver_ncscore,\"Liver cancer (all normal reference)\")"
      ],
      "execution_count": null,
      "outputs": []
    }
  ]
}