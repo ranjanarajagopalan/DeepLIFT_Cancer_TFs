{
  "nbformat": 4,
  "nbformat_minor": 0,
  "metadata": {
    "colab": {
      "name": "ToilNormCancerModelDeepLIFT.ipynb",
      "provenance": [],
      "collapsed_sections": [],
      "authorship_tag": "ABX9TyO7mP6tNzYGM1aUOrATEQ1n",
      "include_colab_link": true
    },
    "kernelspec": {
      "display_name": "Python 3",
      "name": "python3"
    },
    "language_info": {
      "name": "python"
    }
  },
  "cells": [
    {
      "cell_type": "markdown",
      "metadata": {
        "id": "view-in-github",
        "colab_type": "text"
      },
      "source": [
        "<a href=\"https://colab.research.google.com/github/raranj/DeepLIFT_Cancer_TFs/blob/main/ToilNormCancerModelDeepLIFT.ipynb\" target=\"_parent\"><img src=\"https://colab.research.google.com/assets/colab-badge.svg\" alt=\"Open In Colab\"/></a>"
      ]
    },
    {
      "cell_type": "code",
      "metadata": {
        "id": "d-6f0fusHV_4"
      },
      "source": [
        ""
      ],
      "execution_count": null,
      "outputs": []
    },
    {
      "cell_type": "code",
      "metadata": {
        "id": "VbWbcrC8qZ5f"
      },
      "source": [
        "%tensorflow_version 1.x "
      ],
      "execution_count": null,
      "outputs": []
    },
    {
      "cell_type": "code",
      "metadata": {
        "id": "DN27Rjh5g-OI"
      },
      "source": [
        "from google.colab import drive\n",
        "import pandas as pd\n",
        "import tensorflow as tf\n",
        "import numpy as np\n",
        "import matplotlib as mpl\n",
        "import matplotlib.pyplot as plt\n",
        "\n",
        "drive.mount('/content/drive')\n",
        "!ls \"/content/drive/My Drive\""
      ],
      "execution_count": null,
      "outputs": []
    },
    {
      "cell_type": "code",
      "metadata": {
        "id": "-T0bfeUlYrhm"
      },
      "source": [
        "# This function computes deepLIFT scores for each TF using\n",
        "# gene expression numbers for tumor cells and corresponding\n",
        "# normal tissue cells. It then plots the scores and prints the\n",
        "# top n scores. normaldf is a dataframe for nomal cells,\n",
        "# cancerdf is a dataframe for tumor cells, all_norm_df\n",
        "# is the mean gene expression of all TFs across all normal tissues\n",
        "def get_norm_cancer_scores(normaldf, cancerdf, all_norm_df):\n",
        "  #drop columns that have a low mean (< 0.1) in either table to reduce noise\n",
        "  n_mean = normaldf.mean(axis=0)\n",
        "  c_mean = cancerdf.mean(axis=0)\n",
        "  ncols = normaldf.shape[1]\n",
        "  col_list = []\n",
        "  for i in range(0, ncols): \n",
        "    if (n_mean[i] < .1) or c_mean[i] < 0.1:\n",
        "      print(\"Dropping column %s\" %normaldf.columns[i])\n",
        "      col_list.append(i)\n",
        "\n",
        "  # This will modify the argument in the caller to remove these columns\n",
        "  if col_list:\n",
        "    normaldf.drop(normaldf.columns[col_list], axis=1, inplace=True)\n",
        "    cancerdf.drop(cancerdf.columns[col_list], axis=1, inplace=True)\n",
        "    all_norm_df.drop(all_norm_df.columns[col_list], axis=1, inplace=True)\n",
        "\n",
        "  #make a copy to avoid changing the original dataframe\n",
        "  normal_df = normaldf.copy()\n",
        "  cancer_df = cancerdf.copy()\n",
        "\n",
        "  mean = normal_df.mean(axis=0)\n",
        "  ref = mean.to_numpy()\n",
        "  an_mean = all_norm_df.mean(axis=0)\n",
        "  an_ref = an_mean.to_numpy()\n",
        "\n",
        "  normal_df['cell_type'] = 1\n",
        "  cancer_df['cell_type'] = 2\n",
        "\n",
        "  cell_dfs = [normal_df, cancer_df] \n",
        "  X_data = pd.concat(cell_dfs) #one table that merges both types of cells\n",
        "\n",
        "  Y_data = X_data.pop('cell_type') #removing column used for training\n",
        "\n",
        "  #convert to numpy to be used for MLP model\n",
        "  Y_np = Y_data.to_numpy() \n",
        "  X_np = X_data.to_numpy()\n",
        "\n",
        "  num_patients = X_data.shape[0]\n",
        "  num_TFs = X_data.shape[1]\n",
        "\n",
        "  print(\"Number of Patients, TFs:\")\n",
        "  print(num_patients, num_TFs)\n",
        "\n",
        "  model = tf.keras.Sequential() #Sequential model\n",
        "  model.add(tf.keras.layers.Dense(256, input_shape=(num_TFs,))) #256 neurons, input has 1551 transcription factors in each row\n",
        "  model.add(tf.keras.layers.Dense(128, activation = 'relu')) #hidden layer, 128 neurons, ReLU activation function\n",
        "  model.add(tf.keras.layers.Dense(3, activation = 'softmax')) #output layer, normal or cancer types, softmax activation function\n",
        "  model.compile(optimizer = 'adam', loss ='sparse_categorical_crossentropy', metrics = ['accuracy'])  \n",
        "\n",
        "  #reshape single dimensional numpy array to array of patients vs. TFs\n",
        "  X_np_i = X_np.reshape(num_patients, num_TFs).astype(\"float32\") \n",
        "  Y_np_i = Y_np.reshape(num_patients, 1).astype(\"float32\")\n",
        "\n",
        "  #random_state 42 makes train_test_split deterministic, same every time\n",
        "  X_train, X_test, Y_train, Y_test = train_test_split(X_np_i, Y_np_i, test_size=0.2, random_state=42)\n",
        "\n",
        "  model.fit(X_train, Y_train, epochs = 10, validation_data=(X_test, Y_test))\n",
        "\n",
        "  json_config = model.to_json()\n",
        "\n",
        "  with open('TCGA_tissue_model.json', 'w') as json_file: \n",
        "    json_file.write(json_config)\n",
        "\n",
        "  model.save_weights(\"TCGA_tissue_weights.h5\")\n",
        "\n",
        "  from deeplift.layers import NonlinearMxtsMode \n",
        "  import deeplift.conversion.kerasapi_conversion as kc #converts keras model to deepLIFT model\n",
        "  from collections import OrderedDict\n",
        "\n",
        "  #convert model to deepLIFT model\n",
        "  method_to_model = OrderedDict()\n",
        "  for method_name, nonlinear_mxts_mode in [\n",
        "      ('revealcancel_all_layers', NonlinearMxtsMode.RevealCancel)]:\n",
        "      method_to_model[method_name] = kc.convert_model_from_saved_files(\n",
        "        h5_file = \"TCGA_tissue_weights.h5\",\n",
        "        json_file = \"TCGA_tissue_model.json\",\n",
        "        nonlinear_mxts_mode = nonlinear_mxts_mode)  \n",
        "      \n",
        "  #make sure predictions of the deepLIFT model are the same as the original model\n",
        "  from deeplift.util import compile_func\n",
        "\n",
        "  model_to_test = method_to_model['revealcancel_all_layers'] #revealcancel: method in deepLIFT\n",
        "  deeplift_prediction_func = compile_func([model_to_test.get_layers()[0].get_activation_vars()], #0 is input layer, -1 is last layer\n",
        "                                         model_to_test.get_layers()[-1].get_activation_vars())\n",
        "  original_model_predictions = model.predict(X_np_i, batch_size = 200)\n",
        "  converted_model_predictions = deeplift.util.run_function_in_batches(\n",
        "                                input_data_list=[X_np_i],\n",
        "                                func=deeplift_prediction_func,\n",
        "                                batch_size=200,\n",
        "                                progress_update=None)\n",
        "  print(\"maximum difference in predictions:\",np.max(np.array(converted_model_predictions)-np.array(original_model_predictions)))\n",
        "  assert np.max(np.array(converted_model_predictions)-np.array(original_model_predictions)) < 10**-5\n",
        "  predictions = converted_model_predictions \n",
        "\n",
        "  method_to_scoring_func = OrderedDict()\n",
        "  for method, model in method_to_model.items(): #get scoring function for deepLIFT method\n",
        "    print(\"Compiling scoring function for: \" + method) \n",
        "    method_to_scoring_func[method] = model.get_target_contribs_func(find_scores_layer_idx=0, #get scores, 0 refers to input layer\n",
        "                                                                    target_layer_idx=-2) #for softmax, should be -2 per https://github.com/kundajelab/deeplift/blob/master/README.md \n",
        "\n",
        "  n_normal = normal_df.shape[0]\n",
        "  n_cancer = cancer_df.shape[0]\n",
        "\n",
        "  #splitting the table by into normal and cancer rows\n",
        "  X_np_normal = X_np_i[0:n_normal, :]\n",
        "  X_np_cancer = X_np_i[n_normal:n_normal+n_cancer, :] \n",
        "\n",
        "  #call scoring functions to get scores\n",
        "  method_to_task_to_scores = OrderedDict()\n",
        "  for method_name, score_func in method_to_scoring_func.items():\n",
        "    print(\"on method\",method_name)\n",
        "    method_to_task_to_scores[method_name] = OrderedDict()\n",
        "\n",
        "    task_idx = 1 #1 is normal\n",
        "    nscores = np.array(score_func( \n",
        "                    task_idx = task_idx,\n",
        "                    input_data_list= [X_np_normal],\n",
        "                    input_references_list=[an_ref], # normal tissue is reference\n",
        "                    batch_size = 200,\n",
        "                    progress_update = None))\n",
        "    normal_scores = np.sum(nscores, axis = 0)\n",
        "\n",
        "    task_idx = 2 #2 is cancer\n",
        "    cscores = np.array(score_func( \n",
        "                    task_idx = task_idx,\n",
        "                    input_data_list= [X_np_cancer],\n",
        "                    input_references_list=[ref], # normal tissue is reference\n",
        "                    batch_size = 200,\n",
        "                    progress_update = None))\n",
        "    cancer_scores = np.sum(cscores, axis = 0)\n",
        "\n",
        "    cnscores = np.array(score_func( \n",
        "                    task_idx = task_idx,\n",
        "                    input_data_list= [X_np_cancer],\n",
        "                    input_references_list=[an_ref], # all normal tissue mean is reference\n",
        "                    #input_references_list=[np.zeros_like(X_np_cancer)],\n",
        "                    batch_size = 200,\n",
        "                    progress_update = None))\n",
        "    cancer_nscores = np.sum(cnscores, axis = 0)\n",
        "\n",
        "  return normal_scores, cancer_scores, cancer_nscores\n",
        "\n",
        "def get_aggregate_norm_cancer_scores(n_df, c_df, an_df):\n",
        "  first_time = 1\n",
        "  # copy every time as get_norm_cancer_scores may drop some columns\n",
        "  all_norm_df = an_df.copy() \n",
        "  for i in range(0,10):\n",
        "    normal, cancer, cancer_anref = get_norm_cancer_scores(n_df, c_df, all_norm_df)\n",
        "    if (first_time == 1):\n",
        "      normal_agg = normal\n",
        "      cancer_agg = cancer\n",
        "      cancer_anref_agg = cancer_anref\n",
        "      first_time = 0\n",
        "    else:\n",
        "      normal_agg = np.add(normal_agg, normal)\n",
        "      cancer_agg = np.add(cancer_agg, cancer)\n",
        "      cancer_anref_agg = np.add(cancer_anref_agg, cancer_anref)\n",
        "\n",
        "  print(\"Completed aggregate scores\")\n",
        "  return normal_agg, cancer_agg, cancer_anref_agg\n",
        "\n",
        "# reove outliers - anything in the column outside of 1.5*IQR from the\n",
        "# first and thirs quartile is an outlier.  Remove outliers and return\n",
        "# the mean of the remaining values\n",
        "def remove_outliers_and_get_mean(df_in):\n",
        "    q1 = df_in.quantile(0.25)\n",
        "    q3 = df_in.quantile(0.75)\n",
        "    iqr = q3-q1 #Interquartile range\n",
        "    fence_low  = q1-1.5*iqr\n",
        "    fence_high = q3+1.5*iqr\n",
        "    df_out = df_in.loc[(df_in > fence_low) & (df_in < fence_high)]\n",
        "    return df_out.mean()\n",
        "\n",
        "def plot_scores(scores, title):\n",
        "  #plot TF versus score for normal\n",
        "  plt.style.use('seaborn-whitegrid')\n",
        "  plt.title(title)\n",
        "  plt.plot(scores, 'v', color = 'black')\n",
        "  plt.xlabel('transcription factor')\n",
        "  plt.ylabel('DeepLIFT score')\n",
        "  plt.show\n",
        "\n",
        "\n",
        "def print_scores(normal_scores, cancer_scores, cancer_nscores, X_normal_data, X_cancer_data, TFs, n, tissue):\n",
        "  print(tissue + \" normal:\")\n",
        "  max_normal_r = np.argsort(normal_scores)[-n:]\n",
        "  max_normal = np.flip(max_normal_r) # reverse it so index of highest value is first\n",
        "  print(\"Indices:\")\n",
        "  print(max_normal)\n",
        "  print(\"Aggregate scores\")\n",
        "  print(normal_scores[max_normal]) #prints the n highest aggregate scores in cancer_scores\n",
        "  print(\"Transcription factors:\")\n",
        "  TF_names = TFs.columns[max_normal]\n",
        "  print(TF_names)\n",
        "  for name in TF_names:\n",
        "    #cmean = X_cancer_data[name].mean()\n",
        "    #nmean = X_normal_data[name].mean()\n",
        "    cmean = remove_outliers_and_get_mean(X_cancer_data[name])\n",
        "    nmean = remove_outliers_and_get_mean(X_normal_data[name])\n",
        "    print(\"%s mean expression (cancer, normal): (%s %s)\" %(name,cmean,nmean))\n",
        "  print(\"\")\n",
        "  \n",
        "  print(tissue + \" cancer:\")\n",
        "  max_cancer_r = np.argsort(cancer_scores)[-n:]\n",
        "  max_cancer = np.flip(max_cancer_r) # reverse it so index of highest value is first\n",
        "  print(\"Indices:\")\n",
        "  print(max_cancer)\n",
        "  print(\"Aggregate scores\")\n",
        "  print(cancer_scores[max_cancer]) #prints the n highest aggregate scores in cancer_scores\n",
        "  print(\"Transcription factors:\")\n",
        "  TF_names = TFs.columns[max_cancer]\n",
        "  print(TF_names)\n",
        "  for name in TF_names:\n",
        "    #cmean = X_cancer_data[name].mean()\n",
        "    #nmean = X_normal_data[name].mean()\n",
        "    cmean = remove_outliers_and_get_mean(X_cancer_data[name])\n",
        "    nmean =  remove_outliers_and_get_mean(X_normal_data[name])\n",
        "    print(\"%s mean expression (cancer, normal): (%s %s)\" %(name,cmean,nmean))\n",
        "  print(\"\")  \n",
        "\n",
        "  print(tissue + \" cancer (all normal ref):\")\n",
        "  max_cancer_r = np.argsort(cancer_nscores)[-n:]\n",
        "  max_cancer = np.flip(max_cancer_r) # reverse it so index of highest value is first\n",
        "  print(\"Indices:\")\n",
        "  print(max_cancer)\n",
        "  print(\"Aggregate scores\")\n",
        "  print(cancer_nscores[max_cancer]) #prints the n highest aggregate scores in cancer_scores\n",
        "  print(\"Transcription factors:\")\n",
        "  TF_names = TFs.columns[max_cancer]\n",
        "  print(TF_names)\n",
        "  for name in TF_names:\n",
        "    #cmean = X_cancer_data[name].mean()\n",
        "    #nmean = X_normal_data[name].mean()\n",
        "    cmean = remove_outliers_and_get_mean(X_cancer_data[name])\n",
        "    nmean =  remove_outliers_and_get_mean(X_normal_data[name])\n",
        "    print(\"%s mean expression (cancer, normal): (%s %s)\" %(name,cmean,nmean))\n",
        "  print(\"\")"
      ],
      "execution_count": null,
      "outputs": []
    },
    {
      "cell_type": "code",
      "metadata": {
        "id": "oIMYPTS0KuhK"
      },
      "source": [
        "#read data from file and return. dataframe with TFs as columns and patients as rows.\n",
        "def get_tissue_data_df_t(filename, TrFa_df):\n",
        "  data_df = pd.read_csv(filename, sep = '\\\\t')\n",
        "\n",
        "  data_df.drop('Entrez_Gene_Id', axis=1, inplace=True)\n",
        "  data_df.rename(columns={'Hugo_Symbol': 'sample'}, inplace=True)\n",
        "\n",
        "  data_df_m = pd.merge(data_df, TrFa_df, on = 'sample', how = 'inner') #intersection of transcription factors in file and TF list\n",
        "\n",
        "  data_df_m = data_df_m.set_index('sample') #set index so that TFs become column names after transpose \n",
        "  data_df_m = data_df_m.sort_index(axis=0) #sort alphabetically by TF names\n",
        "  data_df_t = data_df_m.transpose() #TFs become columns, and patients become rows\n",
        "\n",
        "  return data_df_t"
      ],
      "execution_count": null,
      "outputs": []
    },
    {
      "cell_type": "code",
      "metadata": {
        "id": "cXszNZGP7cBF"
      },
      "source": [
        "!pip install deeplift\n",
        "import deeplift\n",
        "!pip install scikit-learn\n",
        "from sklearn.model_selection import train_test_split"
      ],
      "execution_count": null,
      "outputs": []
    },
    {
      "cell_type": "code",
      "metadata": {
        "id": "yLUgcbpAYoT9"
      },
      "source": [
        "!cp \"/content/drive/My Drive/list of transcription factors.txt\" \"TF_List\""
      ],
      "execution_count": null,
      "outputs": []
    },
    {
      "cell_type": "code",
      "metadata": {
        "id": "pUJ71BM4apDi"
      },
      "source": [
        "TrFa_df = pd.read_csv(\"TF_List\", sep = '\\\\t')"
      ],
      "execution_count": null,
      "outputs": []
    },
    {
      "cell_type": "code",
      "metadata": {
        "id": "4p5TAeJ8TJrs"
      },
      "source": [
        "!cp \"/content/drive/My Drive/TOIL_lung_TCGA.txt\" \"Lung_Cancer\"\n",
        "Lung_cancer_df_t = get_tissue_data_df_t(\"Lung_Cancer\", TrFa_df)"
      ],
      "execution_count": null,
      "outputs": []
    },
    {
      "cell_type": "code",
      "metadata": {
        "id": "8HlSVS0lTNKc"
      },
      "source": [
        "!cp \"/content/drive/My Drive/TOIL_lung_GTEX.txt\" \"Lung_normal\"\n",
        "Lung_normal_df_t = get_tissue_data_df_t(\"Lung_normal\", TrFa_df)"
      ],
      "execution_count": null,
      "outputs": []
    },
    {
      "cell_type": "code",
      "metadata": {
        "id": "-KYJtD3bkLaT"
      },
      "source": [
        "!cp \"/content/drive/My Drive/TOIL_colon_TCGA.txt\" \"Colon_Cancer\"\n",
        "Colon_cancer_df_t = get_tissue_data_df_t(\"Colon_Cancer\", TrFa_df)"
      ],
      "execution_count": null,
      "outputs": []
    },
    {
      "cell_type": "code",
      "metadata": {
        "id": "QFqpJSweEq3O"
      },
      "source": [
        "!cp \"/content/drive/My Drive/TOIL_colon_GTEX.txt\" \"Colon_Normal\"\n",
        "Colon_normal_df_t = get_tissue_data_df_t(\"Colon_Normal\", TrFa_df)"
      ],
      "execution_count": null,
      "outputs": []
    },
    {
      "cell_type": "code",
      "metadata": {
        "id": "DlDr5DfrTmc8"
      },
      "source": [
        "!cp \"/content/drive/My Drive/TOIL_breast_TCGA.txt\" \"Breast_Cancer\"\n",
        "Breast_cancer_df_t = get_tissue_data_df_t(\"Breast_Cancer\", TrFa_df)"
      ],
      "execution_count": null,
      "outputs": []
    },
    {
      "cell_type": "code",
      "metadata": {
        "id": "ajYBXgWLTxch"
      },
      "source": [
        "!cp \"/content/drive/My Drive/TOIL_breast_GTEX.txt\" \"Breast_Normal\"\n",
        "Breast_normal_df_t = get_tissue_data_df_t(\"Breast_Normal\", TrFa_df)"
      ],
      "execution_count": null,
      "outputs": []
    },
    {
      "cell_type": "code",
      "metadata": {
        "id": "r0Z2VZ0xUyXT"
      },
      "source": [
        "!cp \"/content/drive/My Drive/TOIL_thyroid_TCGA.txt\" \"Thyroid_Cancer\"\n",
        "Thyroid_cancer_df_t = get_tissue_data_df_t(\"Thyroid_Cancer\", TrFa_df)"
      ],
      "execution_count": null,
      "outputs": []
    },
    {
      "cell_type": "code",
      "metadata": {
        "id": "63xv9w2qVNma"
      },
      "source": [
        "!cp \"/content/drive/My Drive/TOIL_thyroid_GTEX.txt\" \"Thyroid_Normal\"\n",
        "Thyroid_normal_df_t = get_tissue_data_df_t(\"Thyroid_Normal\", TrFa_df)"
      ],
      "execution_count": null,
      "outputs": []
    },
    {
      "cell_type": "code",
      "metadata": {
        "id": "BdEpdOipV2Su"
      },
      "source": [
        "!cp \"/content/drive/My Drive/TOIL_stomach_TCGA.txt\" \"Stomach_Cancer\"\n",
        "Stomach_cancer_df_t = get_tissue_data_df_t(\"Stomach_Cancer\", TrFa_df)"
      ],
      "execution_count": null,
      "outputs": []
    },
    {
      "cell_type": "code",
      "metadata": {
        "id": "z3HF6B-mWCHQ"
      },
      "source": [
        "!cp \"/content/drive/My Drive/TOIL_stomach_GTEX.txt\" \"Stomach_Normal\"\n",
        "Stomach_normal_df_t = get_tissue_data_df_t(\"Stomach_Normal\", TrFa_df)"
      ],
      "execution_count": null,
      "outputs": []
    },
    {
      "cell_type": "code",
      "metadata": {
        "id": "fBtIklqMWlKo"
      },
      "source": [
        "!cp \"/content/drive/My Drive/TOIL_prostate_TCGA.txt\" \"Prostate_Cancer\"\n",
        "Prostate_cancer_df_t = get_tissue_data_df_t(\"Prostate_Cancer\", TrFa_df)"
      ],
      "execution_count": null,
      "outputs": []
    },
    {
      "cell_type": "code",
      "metadata": {
        "id": "xKMS14_5Ws6O"
      },
      "source": [
        "!cp \"/content/drive/My Drive/TOIL_prostate_GTEX.txt\" \"Prostate_Normal\"\n",
        "Prostate_normal_df_t = get_tissue_data_df_t(\"Prostate_Normal\", TrFa_df)"
      ],
      "execution_count": null,
      "outputs": []
    },
    {
      "cell_type": "code",
      "metadata": {
        "id": "euYQJJJXW9q4"
      },
      "source": [
        "!cp \"/content/drive/My Drive/TOIL_esophagus_TCGA.txt\" \"Esophagus_Cancer\"\n",
        "Esophagus_cancer_df_t = get_tissue_data_df_t(\"Esophagus_Cancer\", TrFa_df)"
      ],
      "execution_count": null,
      "outputs": []
    },
    {
      "cell_type": "code",
      "metadata": {
        "id": "hmSuvaqYXHwo"
      },
      "source": [
        "!cp \"/content/drive/My Drive/TOIL_esophagus_GTEX.txt\" \"Esophagus_Normal\"\n",
        "Esophagus_normal_df_t = get_tissue_data_df_t(\"Esophagus_Normal\", TrFa_df)"
      ],
      "execution_count": null,
      "outputs": []
    },
    {
      "cell_type": "code",
      "metadata": {
        "id": "K1fOnAYJYBgY"
      },
      "source": [
        "!cp \"/content/drive/My Drive/TOIL_liver_TCGA.txt\" \"Liver_Cancer\"\n",
        "Liver_cancer_df_t = get_tissue_data_df_t(\"Liver_Cancer\", TrFa_df)"
      ],
      "execution_count": null,
      "outputs": []
    },
    {
      "cell_type": "code",
      "metadata": {
        "id": "aw9tRBMeYZYK"
      },
      "source": [
        "!cp \"/content/drive/My Drive/TOIL_liver_GTEX.txt\" \"Liver_Normal\"\n",
        "Liver_normal_df_t = get_tissue_data_df_t(\"Liver_Normal\", TrFa_df)"
      ],
      "execution_count": null,
      "outputs": []
    },
    {
      "cell_type": "code",
      "metadata": {
        "id": "iYHQ-b3fToBv"
      },
      "source": [
        "#get TFs that. are common across all cancers and normal tissues\n",
        "common_cols = Lung_cancer_df_t.columns & Lung_normal_df_t.columns & \\\n",
        "              Colon_cancer_df_t.columns & Colon_normal_df_t.columns & \\\n",
        "              Breast_cancer_df_t.columns & Breast_normal_df_t.columns & \\\n",
        "              Thyroid_cancer_df_t.columns & Thyroid_normal_df_t.columns & \\\n",
        "              Stomach_cancer_df_t.columns & Stomach_normal_df_t.columns & \\\n",
        "              Prostate_cancer_df_t.columns & Prostate_normal_df_t.columns & \\\n",
        "              Esophagus_cancer_df_t.columns & Esophagus_normal_df_t.columns & \\\n",
        "              Liver_cancer_df_t.columns & Liver_normal_df_t.columns"
      ],
      "execution_count": null,
      "outputs": []
    },
    {
      "cell_type": "code",
      "metadata": {
        "id": "OzGLYqMtVp2n"
      },
      "source": [
        "# Retain omly the common columns\n",
        "Lung_cancer_df_t = Lung_cancer_df_t[common_cols]\n",
        "Lung_normal_df_t = Lung_normal_df_t[common_cols]\n",
        "Colon_cancer_df_t = Colon_cancer_df_t[common_cols]\n",
        "Colon_normal_df_t = Colon_normal_df_t[common_cols]\n",
        "Breast_cancer_df_t = Breast_cancer_df_t[common_cols]\n",
        "Breast_normal_df_t = Breast_normal_df_t[common_cols]\n",
        "Thyroid_cancer_df_t = Thyroid_cancer_df_t[common_cols]\n",
        "Thyroid_normal_df_t = Thyroid_normal_df_t[common_cols]\n",
        "Stomach_cancer_df_t = Stomach_cancer_df_t[common_cols]\n",
        "Stomach_normal_df_t = Stomach_normal_df_t[common_cols]\n",
        "Prostate_cancer_df_t = Prostate_cancer_df_t[common_cols]\n",
        "Prostate_normal_df_t = Prostate_normal_df_t[common_cols]\n",
        "Esophagus_cancer_df_t = Esophagus_cancer_df_t[common_cols]\n",
        "Esophagus_normal_df_t = Esophagus_normal_df_t[common_cols]\n",
        "Liver_cancer_df_t = Liver_cancer_df_t[common_cols]\n",
        "Liver_normal_df_t = Liver_normal_df_t[common_cols]"
      ],
      "execution_count": null,
      "outputs": []
    },
    {
      "cell_type": "code",
      "metadata": {
        "id": "9CX_2ASGYXTD"
      },
      "source": [
        "#Get concatenated table of all normal tissue before adding the 'cancer_type' column.\n",
        "#This will be used to get the mean of TF expression values across all tissue types,\n",
        "#which can then be used as the DeepLIFT reference.\n",
        "ref_normal_dfs = [Lung_normal_df_t, Colon_normal_df_t, Breast_normal_df_t, Thyroid_normal_df_t, Stomach_normal_df_t, Prostate_normal_df_t, Esophagus_normal_df_t, Liver_normal_df_t]\n",
        "ref_normal_df_t = pd.concat(ref_normal_dfs) #one table that merges all types of tissues"
      ],
      "execution_count": null,
      "outputs": []
    },
    {
      "cell_type": "code",
      "metadata": {
        "id": "ShWh2gEk6IvP"
      },
      "source": [
        "lung_nscore, lung_cscore, lung_ncscore = get_aggregate_norm_cancer_scores(Lung_normal_df_t, Lung_cancer_df_t, ref_normal_df_t)\n",
        "colon_nscore, colon_cscore, colon_ncscore = get_aggregate_norm_cancer_scores(Colon_normal_df_t, Colon_cancer_df_t, ref_normal_df_t)\n",
        "breast_nscore, breast_cscore, breast_ncscore = get_aggregate_norm_cancer_scores(Breast_normal_df_t, Breast_cancer_df_t, ref_normal_df_t)\n",
        "thyroid_nscore, thyroid_cscore, thyroid_ncscore = get_aggregate_norm_cancer_scores(Thyroid_normal_df_t, Thyroid_cancer_df_t, ref_normal_df_t)\n",
        "stomach_nscore, stomach_cscore, stomach_ncscore = get_aggregate_norm_cancer_scores(Stomach_normal_df_t, Stomach_cancer_df_t, ref_normal_df_t)\n",
        "prostate_nscore, prostate_cscore, prostate_ncscore = get_aggregate_norm_cancer_scores(Prostate_normal_df_t, Prostate_cancer_df_t, ref_normal_df_t)\n",
        "esophagus_nscore, esophagus_cscore, esophagus_ncscore = get_aggregate_norm_cancer_scores(Esophagus_normal_df_t, Esophagus_cancer_df_t, ref_normal_df_t)\n",
        "liver_nscore, liver_cscore, liver_ncscore = get_aggregate_norm_cancer_scores(Liver_normal_df_t, Liver_cancer_df_t, ref_normal_df_t)"
      ],
      "execution_count": null,
      "outputs": []
    },
    {
      "cell_type": "code",
      "metadata": {
        "id": "qkeMJyjW6mXX"
      },
      "source": [
        "n = 10"
      ],
      "execution_count": null,
      "outputs": []
    },
    {
      "cell_type": "code",
      "metadata": {
        "id": "Mo_FL8Lh6nxa"
      },
      "source": [
        "print_scores(lung_nscore,lung_cscore,lung_ncscore,Lung_normal_df_t, Lung_cancer_df_t,Lung_cancer_df_t, n,\"Lung\")"
      ],
      "execution_count": null,
      "outputs": []
    },
    {
      "cell_type": "code",
      "metadata": {
        "id": "qLn7Ik8EN17y"
      },
      "source": [
        "print_scores(colon_nscore,colon_cscore,colon_ncscore,Colon_normal_df_t, Colon_cancer_df_t,Colon_cancer_df_t, n,\"Colon\")"
      ],
      "execution_count": null,
      "outputs": []
    },
    {
      "cell_type": "code",
      "metadata": {
        "id": "aZgnFhWON_ly"
      },
      "source": [
        "print_scores(breast_nscore,breast_cscore,breast_ncscore,Breast_normal_df_t, Breast_cancer_df_t,Breast_cancer_df_t, n,\"Breast\")"
      ],
      "execution_count": null,
      "outputs": []
    },
    {
      "cell_type": "code",
      "metadata": {
        "id": "yDqQxLblOJ61"
      },
      "source": [
        "print_scores(thyroid_nscore,thyroid_cscore,thyroid_ncscore,Thyroid_normal_df_t, Thyroid_cancer_df_t, Thyroid_cancer_df_t, n,\"Thyroid\")"
      ],
      "execution_count": null,
      "outputs": []
    },
    {
      "cell_type": "code",
      "metadata": {
        "id": "pUEQr-OcOSKu"
      },
      "source": [
        "print_scores(stomach_nscore,stomach_cscore,stomach_ncscore,Stomach_normal_df_t,Stomach_cancer_df_t, Stomach_cancer_df_t, n,\"Stomach\")"
      ],
      "execution_count": null,
      "outputs": []
    },
    {
      "cell_type": "code",
      "metadata": {
        "id": "qB6xer4HOap8"
      },
      "source": [
        "print_scores(prostate_nscore,prostate_cscore,prostate_ncscore,Prostate_normal_df_t,Prostate_cancer_df_t, Prostate_cancer_df_t, n,\"Prostate\")"
      ],
      "execution_count": null,
      "outputs": []
    },
    {
      "cell_type": "code",
      "metadata": {
        "id": "qinSnrDoOid_"
      },
      "source": [
        "print_scores(esophagus_nscore,esophagus_cscore,esophagus_ncscore,Esophagus_normal_df_t,Esophagus_cancer_df_t,Esophagus_cancer_df_t, n,\"Esophagus\")"
      ],
      "execution_count": null,
      "outputs": []
    },
    {
      "cell_type": "code",
      "metadata": {
        "id": "Zao5J-7sOv0H"
      },
      "source": [
        "print_scores(liver_nscore,liver_cscore,liver_ncscore,Liver_normal_df_t,Liver_cancer_df_t,Liver_cancer_df_t, n,\"Liver\")"
      ],
      "execution_count": null,
      "outputs": []
    },
    {
      "cell_type": "code",
      "metadata": {
        "id": "XWMxnHU__RdK"
      },
      "source": [
        "plot_scores(lung_nscore, \"Lung normal\")"
      ],
      "execution_count": null,
      "outputs": []
    },
    {
      "cell_type": "code",
      "metadata": {
        "id": "c_0hkbfM_Yhj"
      },
      "source": [
        "plot_scores(lung_cscore, \"Lung cancer\")"
      ],
      "execution_count": null,
      "outputs": []
    },
    {
      "cell_type": "code",
      "metadata": {
        "id": "XbHug_Ei_dZ5"
      },
      "source": [
        "plot_scores(lung_ncscore, \"Lung cancer (all normal reference)\")"
      ],
      "execution_count": null,
      "outputs": []
    },
    {
      "cell_type": "code",
      "metadata": {
        "id": "gJT4wdpoUqs8"
      },
      "source": [
        "plot_scores(colon_nscore, \"Colon normal\")"
      ],
      "execution_count": null,
      "outputs": []
    },
    {
      "cell_type": "code",
      "metadata": {
        "id": "LVAekpWvUjcb"
      },
      "source": [
        "plot_scores(colon_cscore, \"Colon cancer\")"
      ],
      "execution_count": null,
      "outputs": []
    },
    {
      "cell_type": "code",
      "metadata": {
        "id": "3syRhHjyUouj"
      },
      "source": [
        "plot_scores(colon_ncscore, \"Colon cancer (all normal reference)\")"
      ],
      "execution_count": null,
      "outputs": []
    },
    {
      "cell_type": "code",
      "metadata": {
        "id": "BPZNt6EkUwEY"
      },
      "source": [
        "plot_scores(breast_nscore,\"Breast normal\")"
      ],
      "execution_count": null,
      "outputs": []
    },
    {
      "cell_type": "code",
      "metadata": {
        "id": "PD51rvigU06n"
      },
      "source": [
        "plot_scores(breast_cscore,\"Breast cancer\")"
      ],
      "execution_count": null,
      "outputs": []
    },
    {
      "cell_type": "code",
      "metadata": {
        "id": "0s0l9WWXU2_g"
      },
      "source": [
        "plot_scores(breast_nscore,\"Breast cancer (all normal reference)\")"
      ],
      "execution_count": null,
      "outputs": []
    },
    {
      "cell_type": "code",
      "metadata": {
        "id": "niK09IpCU6OI"
      },
      "source": [
        "plot_scores(thyroid_nscore,\"Thyroid normal\")"
      ],
      "execution_count": null,
      "outputs": []
    },
    {
      "cell_type": "code",
      "metadata": {
        "id": "z498fkx9U9F8"
      },
      "source": [
        "plot_scores(thyroid_cscore,\"Thyroid cancer\")"
      ],
      "execution_count": null,
      "outputs": []
    },
    {
      "cell_type": "code",
      "metadata": {
        "id": "-kO55Xz0U_pA"
      },
      "source": [
        "plot_scores(thyroid_ncscore,\"Thyroid cancer (all normal reference)\")"
      ],
      "execution_count": null,
      "outputs": []
    },
    {
      "cell_type": "code",
      "metadata": {
        "id": "3iAEMKx7VCR_"
      },
      "source": [
        "plot_scores(stomach_nscore,\"Stomach normal\")"
      ],
      "execution_count": null,
      "outputs": []
    },
    {
      "cell_type": "code",
      "metadata": {
        "id": "hfw9ANrLVEod"
      },
      "source": [
        "plot_scores(stomach_cscore,\"Stomach cancer\")"
      ],
      "execution_count": null,
      "outputs": []
    },
    {
      "cell_type": "code",
      "metadata": {
        "id": "GTlmXFLhVG4b"
      },
      "source": [
        "plot_scores(stomach_ncscore,\"Stomach cancer (all normal reference)\")"
      ],
      "execution_count": null,
      "outputs": []
    },
    {
      "cell_type": "code",
      "metadata": {
        "id": "DomEbbwcVJIK"
      },
      "source": [
        "plot_scores(prostate_nscore,\"Prostate normal\")"
      ],
      "execution_count": null,
      "outputs": []
    },
    {
      "cell_type": "code",
      "metadata": {
        "id": "tEg3Nsu3VLVo"
      },
      "source": [
        "plot_scores(prostate_cscore,\"Prostate cancer\")"
      ],
      "execution_count": null,
      "outputs": []
    },
    {
      "cell_type": "code",
      "metadata": {
        "id": "qrtHlWvzVNpJ"
      },
      "source": [
        "plot_scores(prostate_ncscore,\"Prostate cancer (all normal reference)\")"
      ],
      "execution_count": null,
      "outputs": []
    },
    {
      "cell_type": "code",
      "metadata": {
        "id": "Ppf1Hy2zVREO"
      },
      "source": [
        "plot_scores(esophagus_nscore,\"Esophagus normal\")"
      ],
      "execution_count": null,
      "outputs": []
    },
    {
      "cell_type": "code",
      "metadata": {
        "id": "TAhP2S-8VTgL"
      },
      "source": [
        "plot_scores(esophagus_cscore,\"Esophagus cancer\")"
      ],
      "execution_count": null,
      "outputs": []
    },
    {
      "cell_type": "code",
      "metadata": {
        "id": "RLsQAr-HVVPA"
      },
      "source": [
        "plot_scores(esophagus_ncscore,\"Esophagus cancer (all normal reference)\")"
      ],
      "execution_count": null,
      "outputs": []
    },
    {
      "cell_type": "code",
      "metadata": {
        "id": "JkmVPYoPVXRy"
      },
      "source": [
        "plot_scores(liver_nscore,\"Liver normal\")"
      ],
      "execution_count": null,
      "outputs": []
    },
    {
      "cell_type": "code",
      "metadata": {
        "id": "crGvIqLoVZbt"
      },
      "source": [
        "plot_scores(liver_cscore,\"Liver cancer\")"
      ],
      "execution_count": null,
      "outputs": []
    },
    {
      "cell_type": "code",
      "metadata": {
        "id": "QMY-ECnXVbt1"
      },
      "source": [
        "plot_scores(liver_ncscore,\"Liver cancer (all normal reference)\")"
      ],
      "execution_count": null,
      "outputs": []
    }
  ]
}